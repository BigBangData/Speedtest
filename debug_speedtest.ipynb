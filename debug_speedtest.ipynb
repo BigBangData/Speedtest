{
 "cells": [
  {
   "cell_type": "code",
   "execution_count": 2,
   "metadata": {},
   "outputs": [],
   "source": [
    "import os\n",
    "import re\n",
    "import json\n",
    "import time\n",
    "import random\n",
    "import subprocess\n",
    "from datetime import datetime"
   ]
  },
  {
   "cell_type": "code",
   "execution_count": 10,
   "metadata": {},
   "outputs": [],
   "source": [
    "# Change dict key order\n",
    "#with open('data/test1.json','r') as f:\n",
    "#    old_dict = json.loads(f.read())\n",
    "\n",
    "#new_order = ['day', 'data', 'computer', 'location', 'test']\n",
    "\n",
    "#new_dict = dict() \n",
    "#for key in new_order: \n",
    "#    new_dict[key] = old_dict[key]"
   ]
  },
  {
   "cell_type": "code",
   "execution_count": 14,
   "metadata": {},
   "outputs": [],
   "source": [
    "def get_speedtest_json():\n",
    "    \"\"\"Conduct one speedtest and return JSON with results.\n",
    "    \"\"\"\n",
    "    # pass a subprocess command to cmd to get json\n",
    "    # todo: add try/except block after specific error\n",
    "    out = subprocess.Popen(\n",
    "        ['runtest.exe',\n",
    "        '-f', 'json'],\n",
    "        stdout=subprocess.PIPE,\n",
    "        stderr=subprocess.STDOUT\n",
    "    )\n",
    "    stdout, stderr = out.communicate()\n",
    "\n",
    "    # decode bytes and transform json into a dict\n",
    "    try:\n",
    "        json_ = stdout.decode('utf-8')\n",
    "        dict_ = json.loads(json_)\n",
    "\n",
    "        return dict_\n",
    "\n",
    "    # json.decoder.JSONDecodeError happens first time \n",
    "    # around because Ookla wants you to read their EULA.\n",
    "    # Fix: either run manually via CMD or find automatic fix.\n",
    "    except (json.decoder.JSONDecodeError,\n",
    "        UnboundLocalError, ValueError) as e:\n",
    "        print(e, flush=True)\n",
    "\n",
    "        # use a default dict\n",
    "        day_, time_ = get_datetime()\n",
    "\n",
    "        dict_ = {\n",
    "                  \"test\": 0,\n",
    "                  \"day\": day_,\n",
    "                  \"location\": \"None\",\n",
    "                  \"computer\": \"None\",\n",
    "                  \"access_point\": \"None\",\n",
    "                  \"data\": {\n",
    "                      \"time\": [\n",
    "                          time_\n",
    "                      ],\n",
    "                      \"jitter\": [\n",
    "                          0\n",
    "                      ],\n",
    "                      \"latency\": [\n",
    "                          0\n",
    "                      ],\n",
    "                      \"download\": [\n",
    "                          0\n",
    "                      ],\n",
    "                      \"upload\": [\n",
    "                          0\n",
    "                      ]\n",
    "                  }\n",
    "              }\n",
    "\n",
    "        return dict_ "
   ]
  },
  {
   "cell_type": "code",
   "execution_count": 15,
   "metadata": {},
   "outputs": [],
   "source": [
    "dict_ = get_speedtest_json()"
   ]
  },
  {
   "cell_type": "code",
   "execution_count": 16,
   "metadata": {},
   "outputs": [],
   "source": [
    "def extract_speeds(dict_):\n",
    "    \"\"\"Given a dictionary of results from the speedtest,\n",
    "    perform necessary transformations to return speeds.\n",
    "    \"\"\"\n",
    "    # extract download and upload speeds in Mbps\n",
    "    download = dict_['download']['bytes']/1e6\n",
    "    upload = dict_['upload']['bytes']/1e6\n",
    "\n",
    "    # return download an upload speeds as a tuple\n",
    "    return download, upload"
   ]
  },
  {
   "cell_type": "code",
   "execution_count": 17,
   "metadata": {},
   "outputs": [
    {
     "data": {
      "text/plain": [
       "(168.746756, 7.299546)"
      ]
     },
     "execution_count": 17,
     "metadata": {},
     "output_type": "execute_result"
    }
   ],
   "source": [
    "download, upload = extract_speeds(dict_)\n",
    "download, upload"
   ]
  },
  {
   "cell_type": "code",
   "execution_count": 19,
   "metadata": {},
   "outputs": [],
   "source": [
    "def extract_ping(dict_):\n",
    "    \"\"\"Given a dictionary of results from the speedtest,\n",
    "    perform necessary transformations to return ping stats.\n",
    "    \"\"\"\n",
    "    jitter = dict_['ping']['jitter']\n",
    "    latency = dict_['ping']['latency']\n",
    "\n",
    "    return jitter, latency"
   ]
  },
  {
   "cell_type": "code",
   "execution_count": 20,
   "metadata": {},
   "outputs": [
    {
     "data": {
      "text/plain": [
       "(0.845, 14.965)"
      ]
     },
     "execution_count": 20,
     "metadata": {},
     "output_type": "execute_result"
    }
   ],
   "source": [
    "jitter, latency = extract_ping(dict_)\n",
    "jitter, latency"
   ]
  },
  {
   "cell_type": "code",
   "execution_count": 21,
   "metadata": {},
   "outputs": [],
   "source": [
    "def get_datetime():\n",
    "    \"\"\"Helper function to get date and time.\n",
    "    \"\"\"\n",
    "    now = time.time()\n",
    "    dt = datetime.fromtimestamp(now)\n",
    "\n",
    "    # transform into readable format\n",
    "    day_, time_ = str(dt).split(' ')\n",
    "    time_ = time_.split('.')[0]\n",
    "\n",
    "    return day_, time_"
   ]
  },
  {
   "cell_type": "code",
   "execution_count": 22,
   "metadata": {},
   "outputs": [],
   "source": [
    "def collect_info(iters, mins):\n",
    "    \"\"\"Perform `iters` speed tests with up to `mins` minutes\n",
    "    of wait time between tests and collect results into a dict.\n",
    "\n",
    "    Defaults to 10 tests for up-to 5 mins of wait time.\n",
    "    \"\"\"\n",
    "    # instantiate lists\n",
    "    times, jitters, latencies = [], [], []\n",
    "    downloads, uploads = [], []\n",
    "\n",
    "    for i in range(iters):\n",
    "        # wait a pseudo-random amt of time\n",
    "        secs = random.randint(10, 60*mins)\n",
    "        print(f'Test {i+1} | Waiting {secs}s...', flush=True)\n",
    "        time.sleep(secs)\n",
    "\n",
    "        # perform the test\n",
    "        print(f'Test {i+1} | Contacting speedtest.net...', flush=True)\n",
    "        dict_ = get_speedtest_json()\n",
    "        day_, time_ = get_datetime()\n",
    "        jitter, latency = extract_ping(dict_)\n",
    "        download, upload = extract_speeds(dict_)\n",
    "\n",
    "        # gather the data into lists\n",
    "        print(f'Test {i+1} | Gathering data...', flush=True)\n",
    "        times.append(time_)\n",
    "        jitters.append(jitter)\n",
    "        latencies.append(latency)\n",
    "        downloads.append(download)\n",
    "        uploads.append(upload)\n",
    "\n",
    "    # then into a dict\n",
    "    dict_ = {\n",
    "             'day':day_,\n",
    "             'data':{\n",
    "                     'time': times,\n",
    "                     'jitter': jitters,\n",
    "                     'latency': latencies,\n",
    "                     'download': downloads,\n",
    "                     'upload': uploads\n",
    "                    }\n",
    "            }\n",
    "\n",
    "    return dict_"
   ]
  },
  {
   "cell_type": "code",
   "execution_count": 25,
   "metadata": {},
   "outputs": [],
   "source": [
    "def create_filename():\n",
    "    \"\"\"Create a filename by examining the `data` dir.\n",
    "    \"\"\"\n",
    "    # get list of files and reverse it using a natural key\n",
    "    try:\n",
    "        filelist = [x for x in os.listdir('data') if x != 'deprecated']\n",
    "        # sorting for 1 to 2+ digits\n",
    "        filelist.sort(key=lambda x: int(re.sub('\\D', '', x)), reverse=True)\n",
    "        # add one to the lastdigit\n",
    "        lastdigit = int(filelist[0].split('.')[0][4:6])+1\n",
    "    except (ValueError, IndexError) as e:\n",
    "        # case when the data dir is empty\n",
    "        lastdigit = 1\n",
    "\n",
    "    filename = ''.join(['test', str(lastdigit), '.json'])\n",
    "\n",
    "    return lastdigit, filename\n",
    "\n",
    "def extract_machineinfo():\n",
    "    \"\"\"Use subprocess to pass a `wmic` cmd to extract \n",
    "    the machine name and info.\n",
    "    \"\"\"\n",
    "    try:\n",
    "        out = subprocess.Popen(\n",
    "            ['wmic', 'csproduct', \n",
    "            'get', 'name'],\n",
    "            stdout=subprocess.PIPE,\n",
    "            stderr=subprocess.STDOUT\n",
    "        )\n",
    "        stdout, stderr = out.communicate()\n",
    "\n",
    "        # cleanup name\n",
    "        names = stdout.decode('utf-8').split('\\n')[1].split(' ')\n",
    "        remove = ['', '\\r\\r', '\\r', '\\n']\n",
    "        clean_names = [x for x in names if x not in remove]\n",
    "        name = ' '.join([str(x) for x in clean_names]) \n",
    "\n",
    "        return name\n",
    "\n",
    "    except (json.JSONDecodeError, UnboundLocalError, ValueError):\n",
    "        name = 'No Name'\n",
    "\n",
    "        return name"
   ]
  },
  {
   "cell_type": "code",
   "execution_count": 28,
   "metadata": {},
   "outputs": [
    {
     "data": {
      "text/plain": [
       "'test6.json'"
      ]
     },
     "execution_count": 28,
     "metadata": {},
     "output_type": "execute_result"
    }
   ],
   "source": [
    "lastdigit, filename = create_filename()\n",
    "filename"
   ]
  },
  {
   "cell_type": "code",
   "execution_count": 30,
   "metadata": {},
   "outputs": [
    {
     "data": {
      "text/plain": [
       "'HP ProBook 450 G5'"
      ]
     },
     "execution_count": 30,
     "metadata": {},
     "output_type": "execute_result"
    }
   ],
   "source": [
    "computer = extract_machineinfo()\n",
    "computer"
   ]
  },
  {
   "cell_type": "code",
   "execution_count": 32,
   "metadata": {},
   "outputs": [
    {
     "name": "stdout",
     "output_type": "stream",
     "text": [
      "Make sure to `git pull` before proceeding.\n",
      "\n"
     ]
    }
   ],
   "source": [
    "#if __name__=='__main__':\n",
    "if 1 == 1:\n",
    "    # git pull since filename is obtained from data/\n",
    "    # needs to be up-to-date with any other machine test results\n",
    "    print(\"Make sure to `git pull` before proceeding.\\n\", flush=True)\n",
    "\n",
    "    # check for arguments\n",
    "    # can't use access_point with new setup since it can vary during testing\n",
    "    # todo: sanitize input, more error checks, use argparse\n",
    "    example = \"Example: \\n$ python speedtest.py living_room 5 5\"\n",
    "    try:\n",
    "        location = 'living_room' #sys.argv[1]\n",
    "        #access_point = sys.argv[2]\n",
    "        iters = 2 # int(sys.argv[2])\n",
    "        mins = 1 # int(sys.argv[3])\n",
    "    except IndexError as e:\n",
    "        print(\"Got IndexError. Please provide the following arguments:\\\n",
    "        \\nlocation, number of tests, minutes between tests.\", flush=True)\n",
    "        print(example, flush=True)\n",
    "        #sys.exit(1)\n",
    "    except ValueError as e:\n",
    "        print(f'Got ValueError. Please provide integers.\\n{example}', flush=True)\n",
    "        #sys.exit(1)"
   ]
  },
  {
   "cell_type": "code",
   "execution_count": 33,
   "metadata": {},
   "outputs": [
    {
     "name": "stdout",
     "output_type": "stream",
     "text": [
      "living_room 2 1\n"
     ]
    }
   ],
   "source": [
    "print(location, iters, mins)"
   ]
  },
  {
   "cell_type": "code",
   "execution_count": 34,
   "metadata": {},
   "outputs": [
    {
     "name": "stdout",
     "output_type": "stream",
     "text": [
      "Test 1 | Waiting 21s...\n",
      "Test 1 | Contacting speedtest.net...\n",
      "Test 1 | Gathering data...\n",
      "Test 2 | Waiting 57s...\n",
      "Test 2 | Contacting speedtest.net...\n",
      "Test 2 | Gathering data...\n"
     ]
    }
   ],
   "source": [
    "if 1 == 1:\n",
    "    # cleanup input\n",
    "    location = location.lower().strip()\n",
    "    #access_point = access_point.lower().strip()\n",
    "    access_point = \"None\"\n",
    "\n",
    "    # extract computer name automagically\n",
    "    computer = extract_machineinfo()\n",
    "\n",
    "    # make data dir if not exists\n",
    "    if not os.path.exists('data'):\n",
    "        os.makedirs('data')\n",
    "\n",
    "    # get lastdigit and filename\n",
    "    lastdigit, filename = create_filename()\n",
    "\n",
    "    # collect data using defaults\n",
    "    dict_ = collect_info(iters, mins)"
   ]
  },
  {
   "cell_type": "code",
   "execution_count": 35,
   "metadata": {},
   "outputs": [
    {
     "name": "stdout",
     "output_type": "stream",
     "text": [
      "Saving all test data...\n",
      "Data saved. Check data\\test6.json\n"
     ]
    }
   ],
   "source": [
    "if 1 == 1:\n",
    "    # add location, computer name\n",
    "    dict_['location'] = location\n",
    "    dict_['computer'] = computer\n",
    "    dict_['access_point'] = access_point\n",
    "    dict_['test'] = lastdigit\n",
    "\n",
    "    # reorder dict\n",
    "    keyorder = [\n",
    "        'test'\n",
    "        ,'day'\n",
    "        ,'location'\n",
    "        ,'computer'\n",
    "        ,'access_point'\n",
    "        ,'data'\n",
    "    ]\n",
    "\n",
    "    finaldict_ = dict()\n",
    "    for key in keyorder: \n",
    "        finaldict_[key] = dict_[key]\n",
    "\n",
    "    # save to data dir\n",
    "    print('Saving all test data...', flush=True)\n",
    "    filepath = os.path.join('data', filename)\n",
    "    with open(filepath, 'w') as f:\n",
    "        json.dump(finaldict_, f, indent=4)\n",
    "\n",
    "    print(f'Data saved. Check {filepath}', flush=True)\n",
    "    #sys.exit(0)"
   ]
  },
  {
   "cell_type": "markdown",
   "metadata": {},
   "source": [
    "---"
   ]
  }
 ],
 "metadata": {
  "kernelspec": {
   "display_name": "Python 3",
   "language": "python",
   "name": "python3"
  },
  "language_info": {
   "codemirror_mode": {
    "name": "ipython",
    "version": 3
   },
   "file_extension": ".py",
   "mimetype": "text/x-python",
   "name": "python",
   "nbconvert_exporter": "python",
   "pygments_lexer": "ipython3",
   "version": "3.8.5"
  }
 },
 "nbformat": 4,
 "nbformat_minor": 4
}
