{
 "cells": [
  {
   "cell_type": "markdown",
   "metadata": {},
   "source": [
    "# Analyzing  Speedtest Results"
   ]
  },
  {
   "cell_type": "code",
   "execution_count": 1,
   "metadata": {},
   "outputs": [
    {
     "data": {
      "text/html": [
       "<style>.container { width:90% !important; }</style>"
      ],
      "text/plain": [
       "<IPython.core.display.HTML object>"
      ]
     },
     "metadata": {},
     "output_type": "display_data"
    }
   ],
   "source": [
    "import os\n",
    "import re\n",
    "import json\n",
    "\n",
    "import numpy as np\n",
    "import pandas as pd\n",
    "import seaborn as sns\n",
    "import matplotlib.pyplot as plt\n",
    "%matplotlib inline\n",
    "\n",
    "import custom_module as M\n",
    "\n",
    "from IPython.core.display import display, HTML\n",
    "display(HTML(\"<style>.container { width:90% !important; }</style>\"))"
   ]
  },
  {
   "cell_type": "code",
   "execution_count": 2,
   "metadata": {},
   "outputs": [],
   "source": [
    "# gather all dicts into a master dict (of dicts)\n",
    "master_dict = M.gather_dicts()"
   ]
  },
  {
   "cell_type": "code",
   "execution_count": 16,
   "metadata": {},
   "outputs": [
    {
     "data": {
      "text/html": [
       "<div>\n",
       "<style scoped>\n",
       "    .dataframe tbody tr th:only-of-type {\n",
       "        vertical-align: middle;\n",
       "    }\n",
       "\n",
       "    .dataframe tbody tr th {\n",
       "        vertical-align: top;\n",
       "    }\n",
       "\n",
       "    .dataframe thead th {\n",
       "        text-align: right;\n",
       "    }\n",
       "</style>\n",
       "<table border=\"1\" class=\"dataframe\">\n",
       "  <thead>\n",
       "    <tr style=\"text-align: right;\">\n",
       "      <th></th>\n",
       "      <th>test</th>\n",
       "      <th>day</th>\n",
       "      <th>location</th>\n",
       "      <th>computer</th>\n",
       "      <th>access_point</th>\n",
       "      <th>data</th>\n",
       "    </tr>\n",
       "  </thead>\n",
       "  <tbody>\n",
       "    <tr>\n",
       "      <th>0</th>\n",
       "      <td>1</td>\n",
       "      <td>2022-09-04</td>\n",
       "      <td>upper_west</td>\n",
       "      <td>HP ProBook 450 G5</td>\n",
       "      <td>None</td>\n",
       "      <td>{'time': ['16:38:34', '16:39:47', '16:43:13', ...</td>\n",
       "    </tr>\n",
       "    <tr>\n",
       "      <th>1</th>\n",
       "      <td>2</td>\n",
       "      <td>2022-09-04</td>\n",
       "      <td>upper_west</td>\n",
       "      <td>HP ProBook 450 G5</td>\n",
       "      <td>None</td>\n",
       "      <td>{'time': ['18:27:12', '18:27:46', '18:29:34', ...</td>\n",
       "    </tr>\n",
       "    <tr>\n",
       "      <th>2</th>\n",
       "      <td>3</td>\n",
       "      <td>2022-09-06</td>\n",
       "      <td>living_room</td>\n",
       "      <td>15Z95P-P.AAB8U1</td>\n",
       "      <td>None</td>\n",
       "      <td>{'time': ['12:37:28', '12:40:30', '12:41:04', ...</td>\n",
       "    </tr>\n",
       "    <tr>\n",
       "      <th>3</th>\n",
       "      <td>4</td>\n",
       "      <td>2022-09-06</td>\n",
       "      <td>upper_east</td>\n",
       "      <td>15Z95P-P.AAB8U1</td>\n",
       "      <td>None</td>\n",
       "      <td>{'time': ['12:51:39', '12:55:18', '12:57:19', ...</td>\n",
       "    </tr>\n",
       "    <tr>\n",
       "      <th>4</th>\n",
       "      <td>5</td>\n",
       "      <td>2022-09-07</td>\n",
       "      <td>lower_west</td>\n",
       "      <td>HP ProBook 450 G5</td>\n",
       "      <td>None</td>\n",
       "      <td>{'time': ['11:19:49', '11:25:05', '11:28:21', ...</td>\n",
       "    </tr>\n",
       "  </tbody>\n",
       "</table>\n",
       "</div>"
      ],
      "text/plain": [
       "  test         day     location           computer access_point  \\\n",
       "0    1  2022-09-04   upper_west  HP ProBook 450 G5         None   \n",
       "1    2  2022-09-04   upper_west  HP ProBook 450 G5         None   \n",
       "2    3  2022-09-06  living_room    15Z95P-P.AAB8U1         None   \n",
       "3    4  2022-09-06   upper_east    15Z95P-P.AAB8U1         None   \n",
       "4    5  2022-09-07   lower_west  HP ProBook 450 G5         None   \n",
       "\n",
       "                                                data  \n",
       "0  {'time': ['16:38:34', '16:39:47', '16:43:13', ...  \n",
       "1  {'time': ['18:27:12', '18:27:46', '18:29:34', ...  \n",
       "2  {'time': ['12:37:28', '12:40:30', '12:41:04', ...  \n",
       "3  {'time': ['12:51:39', '12:55:18', '12:57:19', ...  \n",
       "4  {'time': ['11:19:49', '11:25:05', '11:28:21', ...  "
      ]
     },
     "execution_count": 16,
     "metadata": {},
     "output_type": "execute_result"
    }
   ],
   "source": [
    "# create long pandas df\n",
    "df_wide = pd.DataFrame.from_dict(master_dict)\n",
    "df_long = df_wide.T\n",
    "df_long.index = range(len(df_long))\n",
    "df_long"
   ]
  },
  {
   "cell_type": "code",
   "execution_count": 4,
   "metadata": {},
   "outputs": [
    {
     "data": {
      "text/plain": [
       "{'time': ['16:38:34', '16:39:47', '16:43:13', '16:45:29', '16:47:07'],\n",
       " 'jitter': [1.044, 1.189, 1.904, 0.514, 2.18],\n",
       " 'latency': [14.797, 13.487, 12.067, 13.509, 13.444],\n",
       " 'download': [157.935456, 121.17854, 121.29388, 152.303892, 170.274728],\n",
       " 'upload': [10.703478, 7.654459, 9.4381, 9.449713, 8.825212]}"
      ]
     },
     "execution_count": 4,
     "metadata": {},
     "output_type": "execute_result"
    }
   ],
   "source": [
    "# The `data` col is a dict of time of day, jitter and latency in secs, and download and upload speeds in Mbps\n",
    "df_long.loc[0,'data']"
   ]
  },
  {
   "cell_type": "markdown",
   "metadata": {},
   "source": [
    "The custom help function `plot_speeds` shows upload and download speeds (and an average download speed) for a single test suite (or test run) that includes typically 5 iterations or speed tests.\n",
    "\n",
    "This is too zoomed in for insights given how our speeds vary per day, time of day, and computer used:"
   ]
  },
  {
   "cell_type": "code",
   "execution_count": 5,
   "metadata": {},
   "outputs": [
    {
     "data": {
      "image/png": "[encoded data removed]",
      "text/plain": [
       "<Figure size 720x360 with 1 Axes>"
      ]
     },
     "metadata": {
      "needs_background": "light"
     },
     "output_type": "display_data"
    }
   ],
   "source": [
    "M.plot_speeds(df=df_wide, test='test1', iters=5, ymax=200); # defaults"
   ]
  },
  {
   "cell_type": "code",
   "execution_count": 19,
   "metadata": {},
   "outputs": [
    {
     "data": {
      "image/png": "[encoded data removed]",
      "text/plain": [
       "<Figure size 720x360 with 1 Axes>"
      ]
     },
     "metadata": {
      "needs_background": "light"
     },
     "output_type": "display_data"
    }
   ],
   "source": [
    "M.plot_speeds(df=df_wide, test='test4');"
   ]
  },
  {
   "cell_type": "markdown",
   "metadata": {},
   "source": [
    "## Dates\n",
    "\n",
    "Focusing on download speeds since that's most of our use case, I look at variance in download times given different dates:"
   ]
  },
  {
   "cell_type": "code",
   "execution_count": 20,
   "metadata": {},
   "outputs": [
    {
     "data": {
      "text/html": [
       "<div>\n",
       "<style scoped>\n",
       "    .dataframe tbody tr th:only-of-type {\n",
       "        vertical-align: middle;\n",
       "    }\n",
       "\n",
       "    .dataframe tbody tr th {\n",
       "        vertical-align: top;\n",
       "    }\n",
       "\n",
       "    .dataframe thead th {\n",
       "        text-align: right;\n",
       "    }\n",
       "</style>\n",
       "<table border=\"1\" class=\"dataframe\">\n",
       "  <thead>\n",
       "    <tr style=\"text-align: right;\">\n",
       "      <th></th>\n",
       "      <th>2022-09-04</th>\n",
       "      <th>2022-09-04</th>\n",
       "      <th>2022-09-06</th>\n",
       "      <th>2022-09-06</th>\n",
       "      <th>2022-09-07</th>\n",
       "    </tr>\n",
       "  </thead>\n",
       "  <tbody>\n",
       "    <tr>\n",
       "      <th>0</th>\n",
       "      <td>157.935456</td>\n",
       "      <td>112.440335</td>\n",
       "      <td>119.241076</td>\n",
       "      <td>113.436254</td>\n",
       "      <td>158.907815</td>\n",
       "    </tr>\n",
       "    <tr>\n",
       "      <th>1</th>\n",
       "      <td>121.178540</td>\n",
       "      <td>108.056060</td>\n",
       "      <td>94.396195</td>\n",
       "      <td>122.929118</td>\n",
       "      <td>115.414416</td>\n",
       "    </tr>\n",
       "    <tr>\n",
       "      <th>2</th>\n",
       "      <td>121.293880</td>\n",
       "      <td>103.397200</td>\n",
       "      <td>109.327660</td>\n",
       "      <td>112.037480</td>\n",
       "      <td>173.922456</td>\n",
       "    </tr>\n",
       "    <tr>\n",
       "      <th>3</th>\n",
       "      <td>152.303892</td>\n",
       "      <td>91.695235</td>\n",
       "      <td>77.585152</td>\n",
       "      <td>95.961420</td>\n",
       "      <td>100.212940</td>\n",
       "    </tr>\n",
       "    <tr>\n",
       "      <th>4</th>\n",
       "      <td>170.274728</td>\n",
       "      <td>180.695053</td>\n",
       "      <td>107.714420</td>\n",
       "      <td>110.211304</td>\n",
       "      <td>125.396480</td>\n",
       "    </tr>\n",
       "  </tbody>\n",
       "</table>\n",
       "</div>"
      ],
      "text/plain": [
       "   2022-09-04  2022-09-04  2022-09-06  2022-09-06  2022-09-07\n",
       "0  157.935456  112.440335  119.241076  113.436254  158.907815\n",
       "1  121.178540  108.056060   94.396195  122.929118  115.414416\n",
       "2  121.293880  103.397200  109.327660  112.037480  173.922456\n",
       "3  152.303892   91.695235   77.585152   95.961420  100.212940\n",
       "4  170.274728  180.695053  107.714420  110.211304  125.396480"
      ]
     },
     "execution_count": 20,
     "metadata": {},
     "output_type": "execute_result"
    }
   ],
   "source": [
    "date_df = M.transform_data(df_wide, \"day\")\n",
    "date_df.iloc[:,:10]"
   ]
  },
  {
   "cell_type": "markdown",
   "metadata": {},
   "source": [
    "Since it's hard to get a sense by looking at numbers, we can plot a __heatmap__:"
   ]
  },
  {
   "cell_type": "code",
   "execution_count": 21,
   "metadata": {},
   "outputs": [
    {
     "data": {
      "image/png": "[encoded data removed]",
      "text/plain": [
       "<Figure size 1200x480 with 1 Axes>"
      ]
     },
     "metadata": {},
     "output_type": "display_data"
    }
   ],
   "source": [
    "fig=plt.figure(figsize=(15, 6), dpi= 80, facecolor='w', edgecolor='k')\n",
    "plt.imshow(date_df, cmap='hot', interpolation='nearest')\n",
    "plt.show()"
   ]
  },
  {
   "cell_type": "markdown",
   "metadata": {},
   "source": [
    "There's a lot of variation but we can see how some tests result in lower speeds and others in higher speeds by looking at the vertical bands.\n",
    "\n",
    "Another way to visualize this would be __boxplots__ to show the variation `within` and `in-between` tests:"
   ]
  },
  {
   "cell_type": "code",
   "execution_count": 22,
   "metadata": {},
   "outputs": [
    {
     "data": {
      "image/png": "[encoded data removed]",
      "text/plain": [
       "<Figure size 1440x576 with 1 Axes>"
      ]
     },
     "metadata": {
      "needs_background": "light"
     },
     "output_type": "display_data"
    }
   ],
   "source": [
    "# misses aggregating by Date...\n",
    "\n",
    "M.plot_results(date_df, \"Date\")"
   ]
  },
  {
   "cell_type": "markdown",
   "metadata": {},
   "source": [
    "## Laptop location\n",
    "\n",
    "The laptop's location matters but so does the location of the router during a given test, and another confounder is the laptop used.\n",
    "\n",
    "Since my data collection strategy was evolving and less than optimal, stratification leads to incomplete sample sizes. A large subsample comes from the \"upper east\" room:"
   ]
  },
  {
   "cell_type": "code",
   "execution_count": 25,
   "metadata": {},
   "outputs": [
    {
     "data": {
      "image/png": "[encoded data removed]",
      "text/plain": [
       "<Figure size 1440x576 with 1 Axes>"
      ]
     },
     "metadata": {
      "needs_background": "light"
     },
     "output_type": "display_data"
    }
   ],
   "source": [
    "# also misses aggregation\n",
    "\n",
    "loc_df = M.transform_data(df_wide, 'location')\n",
    "\n",
    "M.plot_results(loc_df[['upper_west']], \"Laptop Location\")"
   ]
  },
  {
   "cell_type": "code",
   "execution_count": 26,
   "metadata": {},
   "outputs": [
    {
     "data": {
      "text/html": [
       "<div>\n",
       "<style scoped>\n",
       "    .dataframe tbody tr th:only-of-type {\n",
       "        vertical-align: middle;\n",
       "    }\n",
       "\n",
       "    .dataframe tbody tr th {\n",
       "        vertical-align: top;\n",
       "    }\n",
       "\n",
       "    .dataframe thead th {\n",
       "        text-align: right;\n",
       "    }\n",
       "</style>\n",
       "<table border=\"1\" class=\"dataframe\">\n",
       "  <thead>\n",
       "    <tr style=\"text-align: right;\">\n",
       "      <th></th>\n",
       "      <th>test</th>\n",
       "      <th>day</th>\n",
       "      <th>location</th>\n",
       "      <th>computer</th>\n",
       "      <th>access_point</th>\n",
       "      <th>data</th>\n",
       "    </tr>\n",
       "  </thead>\n",
       "  <tbody>\n",
       "    <tr>\n",
       "      <th>0</th>\n",
       "      <td>1</td>\n",
       "      <td>2022-09-04</td>\n",
       "      <td>upper_west</td>\n",
       "      <td>HP ProBook 450 G5</td>\n",
       "      <td>None</td>\n",
       "      <td>{'time': ['16:38:34', '16:39:47', '16:43:13', ...</td>\n",
       "    </tr>\n",
       "    <tr>\n",
       "      <th>1</th>\n",
       "      <td>2</td>\n",
       "      <td>2022-09-04</td>\n",
       "      <td>upper_west</td>\n",
       "      <td>HP ProBook 450 G5</td>\n",
       "      <td>None</td>\n",
       "      <td>{'time': ['18:27:12', '18:27:46', '18:29:34', ...</td>\n",
       "    </tr>\n",
       "  </tbody>\n",
       "</table>\n",
       "</div>"
      ],
      "text/plain": [
       "  test         day    location           computer access_point  \\\n",
       "0    1  2022-09-04  upper_west  HP ProBook 450 G5         None   \n",
       "1    2  2022-09-04  upper_west  HP ProBook 450 G5         None   \n",
       "\n",
       "                                                data  \n",
       "0  {'time': ['16:38:34', '16:39:47', '16:43:13', ...  \n",
       "1  {'time': ['18:27:12', '18:27:46', '18:29:34', ...  "
      ]
     },
     "execution_count": 26,
     "metadata": {},
     "output_type": "execute_result"
    }
   ],
   "source": [
    "df_long[df_long['location']=='upper_west']"
   ]
  },
  {
   "cell_type": "markdown",
   "metadata": {},
   "source": [
    "Here I compare upper west and lower west locations:"
   ]
  },
  {
   "cell_type": "code",
   "execution_count": 27,
   "metadata": {},
   "outputs": [
    {
     "data": {
      "image/png": "[encoded data removed]",
      "text/plain": [
       "<Figure size 1440x576 with 1 Axes>"
      ]
     },
     "metadata": {
      "needs_background": "light"
     },
     "output_type": "display_data"
    }
   ],
   "source": [
    "M.plot_results(loc_df[['upper_west', 'lower_west']], \"Laptop Location\")"
   ]
  },
  {
   "cell_type": "markdown",
   "metadata": {},
   "source": [
    "The data is noisy. First I have some \"good luck\" with speeds even though I'm in the upper west room and the router is in the living room (downstairs), but then the speeds decrease and I move the router to the hallway upstairs (where it lives now) and speeds improve initially but decrease as well. \n",
    "\n",
    "Despite the smaller number of tests in the lower west room (where I work), I get a significant decrease of speeds by moving the router to the hallway upstairs."
   ]
  },
  {
   "cell_type": "code",
   "execution_count": 28,
   "metadata": {},
   "outputs": [
    {
     "data": {
      "text/html": [
       "<div>\n",
       "<style scoped>\n",
       "    .dataframe tbody tr th:only-of-type {\n",
       "        vertical-align: middle;\n",
       "    }\n",
       "\n",
       "    .dataframe tbody tr th {\n",
       "        vertical-align: top;\n",
       "    }\n",
       "\n",
       "    .dataframe thead th {\n",
       "        text-align: right;\n",
       "    }\n",
       "</style>\n",
       "<table border=\"1\" class=\"dataframe\">\n",
       "  <thead>\n",
       "    <tr style=\"text-align: right;\">\n",
       "      <th></th>\n",
       "      <th>test</th>\n",
       "      <th>day</th>\n",
       "      <th>location</th>\n",
       "      <th>computer</th>\n",
       "      <th>access_point</th>\n",
       "      <th>data</th>\n",
       "    </tr>\n",
       "  </thead>\n",
       "  <tbody>\n",
       "    <tr>\n",
       "      <th>0</th>\n",
       "      <td>1</td>\n",
       "      <td>2022-09-04</td>\n",
       "      <td>upper_west</td>\n",
       "      <td>HP ProBook 450 G5</td>\n",
       "      <td>None</td>\n",
       "      <td>{'time': ['16:38:34', '16:39:47', '16:43:13', ...</td>\n",
       "    </tr>\n",
       "    <tr>\n",
       "      <th>1</th>\n",
       "      <td>2</td>\n",
       "      <td>2022-09-04</td>\n",
       "      <td>upper_west</td>\n",
       "      <td>HP ProBook 450 G5</td>\n",
       "      <td>None</td>\n",
       "      <td>{'time': ['18:27:12', '18:27:46', '18:29:34', ...</td>\n",
       "    </tr>\n",
       "    <tr>\n",
       "      <th>4</th>\n",
       "      <td>5</td>\n",
       "      <td>2022-09-07</td>\n",
       "      <td>lower_west</td>\n",
       "      <td>HP ProBook 450 G5</td>\n",
       "      <td>None</td>\n",
       "      <td>{'time': ['11:19:49', '11:25:05', '11:28:21', ...</td>\n",
       "    </tr>\n",
       "  </tbody>\n",
       "</table>\n",
       "</div>"
      ],
      "text/plain": [
       "  test         day    location           computer access_point  \\\n",
       "0    1  2022-09-04  upper_west  HP ProBook 450 G5         None   \n",
       "1    2  2022-09-04  upper_west  HP ProBook 450 G5         None   \n",
       "4    5  2022-09-07  lower_west  HP ProBook 450 G5         None   \n",
       "\n",
       "                                                data  \n",
       "0  {'time': ['16:38:34', '16:39:47', '16:43:13', ...  \n",
       "1  {'time': ['18:27:12', '18:27:46', '18:29:34', ...  \n",
       "4  {'time': ['11:19:49', '11:25:05', '11:28:21', ...  "
      ]
     },
     "execution_count": 28,
     "metadata": {},
     "output_type": "execute_result"
    }
   ],
   "source": [
    "df_long[df_long['location'].isin(['upper_west', 'lower_west'])]\\\n",
    "    .sort_values(by=['location','test'], ascending=[False, True])"
   ]
  },
  {
   "cell_type": "markdown",
   "metadata": {},
   "source": [
    "\n",
    "## Computer\n",
    "\n",
    "All this is of cousre confounded by the old vs new laptops, which as you'd expect, show the clearest signals."
   ]
  },
  {
   "cell_type": "code",
   "execution_count": 29,
   "metadata": {},
   "outputs": [
    {
     "data": {
      "image/png": "[encoded data removed]",
      "text/plain": [
       "<Figure size 1440x576 with 1 Axes>"
      ]
     },
     "metadata": {
      "needs_background": "light"
     },
     "output_type": "display_data"
    }
   ],
   "source": [
    "# HP laptops\n",
    "comp_df = M.transform_data(df_wide, \"computer\")\n",
    "M.plot_results(comp_df[['HP ProBook 450 G5', '15Z95P-P.AAB8U1']], \"Laptop\")"
   ]
  },
  {
   "cell_type": "markdown",
   "metadata": {},
   "source": [
    "The newer HP ProBook gets greater speeds but also has its bad moments and greater variance than I'd have hoped for."
   ]
  },
  {
   "cell_type": "code",
   "execution_count": 30,
   "metadata": {},
   "outputs": [],
   "source": [
    "# Dell laptops\n",
    "#M.plot_results(comp_df[['Inspiron 13-5378', 'Dell System Inspiron N7110']], \"Dell Laptops\", scale=.7)"
   ]
  },
  {
   "cell_type": "markdown",
   "metadata": {},
   "source": [
    "*Statistics* vs *common sense*:\n",
    "- I was mostly concerned about speeds for the old Dell so I did not test the new Dell more than once, which is statistically unsound but makes sense, I did not need more than one test to confirm what I knew and was experiencing. I also had less access to these computers."
   ]
  },
  {
   "cell_type": "markdown",
   "metadata": {},
   "source": [
    "---"
   ]
  }
 ],
 "metadata": {
  "kernelspec": {
   "display_name": "Python 3",
   "language": "python",
   "name": "python3"
  },
  "language_info": {
   "codemirror_mode": {
    "name": "ipython",
    "version": 3
   },
   "file_extension": ".py",
   "mimetype": "text/x-python",
   "name": "python",
   "nbconvert_exporter": "python",
   "pygments_lexer": "ipython3",
   "version": "3.8.5"
  }
 },
 "nbformat": 4,
 "nbformat_minor": 4
}
