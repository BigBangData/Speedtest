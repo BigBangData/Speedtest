{
 "cells": [
  {
   "cell_type": "markdown",
   "metadata": {},
   "source": [
    "# Ploting  Speedtest Results"
   ]
  },
  {
   "cell_type": "code",
   "execution_count": 1,
   "metadata": {},
   "outputs": [
    {
     "data": {
      "text/html": [
       "<style>.container { width:100% !important; }</style>"
      ],
      "text/plain": [
       "<IPython.core.display.HTML object>"
      ]
     },
     "metadata": {},
     "output_type": "display_data"
    }
   ],
   "source": [
    "import os\n",
    "import re\n",
    "import json\n",
    "\n",
    "import numpy as np\n",
    "import pandas as pd\n",
    "import seaborn as sns\n",
    "import matplotlib.pyplot as plt\n",
    "%matplotlib inline\n",
    "\n",
    "import custom_module as M\n",
    "\n",
    "from IPython.core.display import display, HTML\n",
    "display(HTML(\"<style>.container { width:100% !important; }</style>\"))"
   ]
  },
  {
   "cell_type": "code",
   "execution_count": 2,
   "metadata": {},
   "outputs": [
    {
     "data": {
      "text/html": [
       "<div>\n",
       "<style scoped>\n",
       "    .dataframe tbody tr th:only-of-type {\n",
       "        vertical-align: middle;\n",
       "    }\n",
       "\n",
       "    .dataframe tbody tr th {\n",
       "        vertical-align: top;\n",
       "    }\n",
       "\n",
       "    .dataframe thead th {\n",
       "        text-align: right;\n",
       "    }\n",
       "</style>\n",
       "<table border=\"1\" class=\"dataframe\">\n",
       "  <thead>\n",
       "    <tr style=\"text-align: right;\">\n",
       "      <th></th>\n",
       "      <th>test</th>\n",
       "      <th>day</th>\n",
       "      <th>location</th>\n",
       "      <th>computer</th>\n",
       "      <th>router_location</th>\n",
       "      <th>data</th>\n",
       "    </tr>\n",
       "  </thead>\n",
       "  <tbody>\n",
       "    <tr>\n",
       "      <th>0</th>\n",
       "      <td>1</td>\n",
       "      <td>2020-06-07</td>\n",
       "      <td>living room</td>\n",
       "      <td>HP ProBook 450 G5</td>\n",
       "      <td>living room west corner</td>\n",
       "      <td>{'time': ['12:03:59', '12:07:13', '12:11:15', ...</td>\n",
       "    </tr>\n",
       "    <tr>\n",
       "      <th>1</th>\n",
       "      <td>2</td>\n",
       "      <td>2020-06-07</td>\n",
       "      <td>upper east</td>\n",
       "      <td>HP ProBook 450 G5</td>\n",
       "      <td>living room west corner</td>\n",
       "      <td>{'time': ['12:46:26', '12:50:20', '12:52:20', ...</td>\n",
       "    </tr>\n",
       "    <tr>\n",
       "      <th>2</th>\n",
       "      <td>3</td>\n",
       "      <td>2020-06-07</td>\n",
       "      <td>lower west</td>\n",
       "      <td>HP ProBook 450 G5</td>\n",
       "      <td>living room west corner</td>\n",
       "      <td>{'time': ['13:31:28', '13:35:30', '13:38:15', ...</td>\n",
       "    </tr>\n",
       "    <tr>\n",
       "      <th>3</th>\n",
       "      <td>4</td>\n",
       "      <td>2020-06-07</td>\n",
       "      <td>upper west</td>\n",
       "      <td>HP ProBook 450 G5</td>\n",
       "      <td>living room west corner</td>\n",
       "      <td>{'time': ['14:09:46', '14:11:36', '14:16:51', ...</td>\n",
       "    </tr>\n",
       "    <tr>\n",
       "      <th>4</th>\n",
       "      <td>5</td>\n",
       "      <td>2020-06-08</td>\n",
       "      <td>upper east</td>\n",
       "      <td>HP ProBook 450 G5</td>\n",
       "      <td>living room west corner</td>\n",
       "      <td>{'time': ['16:26:02', '16:28:46', '16:32:11', ...</td>\n",
       "    </tr>\n",
       "  </tbody>\n",
       "</table>\n",
       "</div>"
      ],
      "text/plain": [
       "  test         day     location           computer          router_location  \\\n",
       "0    1  2020-06-07  living room  HP ProBook 450 G5  living room west corner   \n",
       "1    2  2020-06-07   upper east  HP ProBook 450 G5  living room west corner   \n",
       "2    3  2020-06-07   lower west  HP ProBook 450 G5  living room west corner   \n",
       "3    4  2020-06-07   upper west  HP ProBook 450 G5  living room west corner   \n",
       "4    5  2020-06-08   upper east  HP ProBook 450 G5  living room west corner   \n",
       "\n",
       "                                                data  \n",
       "0  {'time': ['12:03:59', '12:07:13', '12:11:15', ...  \n",
       "1  {'time': ['12:46:26', '12:50:20', '12:52:20', ...  \n",
       "2  {'time': ['13:31:28', '13:35:30', '13:38:15', ...  \n",
       "3  {'time': ['14:09:46', '14:11:36', '14:16:51', ...  \n",
       "4  {'time': ['16:26:02', '16:28:46', '16:32:11', ...  "
      ]
     },
     "execution_count": 2,
     "metadata": {},
     "output_type": "execute_result"
    }
   ],
   "source": [
    "# get master dict and convert to wide & long dfs\n",
    "_dict = M.gather_dicts()\n",
    "df_wide = pd.DataFrame.from_dict(_dict)\n",
    "df_long = df_wide.T\n",
    "df_long.index = range(len(df_long))\n",
    "df_long.head()"
   ]
  },
  {
   "cell_type": "markdown",
   "metadata": {},
   "source": [
    "The data is a dictionary of times in seconds and download and upload speeds in Mbps (I did not collect jitter and latency until later so I'll ignore those)."
   ]
  },
  {
   "cell_type": "code",
   "execution_count": 3,
   "metadata": {},
   "outputs": [
    {
     "name": "stdout",
     "output_type": "stream",
     "text": [
      "{'time': ['12:03:59', '12:07:13', '12:11:15', '12:15:19', '12:19:53', '12:24:15', '12:25:55', '12:27:09', '12:29:03', '12:34:15'], 'download': [99.75158, 69.165935, 82.09726, 76.162253, 49.996191, 80.555113, 132.313207, 118.668693, 97.323495, 88.024754], 'upload': [4.588742, 5.515696, 3.592372, 6.51109, 4.993106, 5.375524, 4.940173, 5.650967, 5.672564, 6.971582]}\n"
     ]
    }
   ],
   "source": [
    "print(df_long.loc[0,'data'])"
   ]
  },
  {
   "cell_type": "markdown",
   "metadata": {},
   "source": [
    "We can visualize this for a single test in all its glory - but this is too zoomed in for overall insights given how our speeds vary per day, time of day, router location, and computer used:"
   ]
  },
  {
   "cell_type": "code",
   "execution_count": 4,
   "metadata": {},
   "outputs": [
    {
     "data": {
      "image/png": "[encoded data removed]",
      "text/plain": [
       "<Figure size 720x360 with 1 Axes>"
      ]
     },
     "metadata": {
      "needs_background": "light"
     },
     "output_type": "display_data"
    }
   ],
   "source": [
    "M.plot_single(df_wide, 'test36');"
   ]
  },
  {
   "cell_type": "markdown",
   "metadata": {},
   "source": [
    "## Dates\n",
    "\n",
    "Focusing on download speeds since that's most of our use case at home, I look at variance in download times given different dates:"
   ]
  },
  {
   "cell_type": "code",
   "execution_count": 5,
   "metadata": {},
   "outputs": [
    {
     "data": {
      "text/html": [
       "<div>\n",
       "<style scoped>\n",
       "    .dataframe tbody tr th:only-of-type {\n",
       "        vertical-align: middle;\n",
       "    }\n",
       "\n",
       "    .dataframe tbody tr th {\n",
       "        vertical-align: top;\n",
       "    }\n",
       "\n",
       "    .dataframe thead th {\n",
       "        text-align: right;\n",
       "    }\n",
       "</style>\n",
       "<table border=\"1\" class=\"dataframe\">\n",
       "  <thead>\n",
       "    <tr style=\"text-align: right;\">\n",
       "      <th></th>\n",
       "      <th>2020-06-07</th>\n",
       "      <th>2020-06-07</th>\n",
       "      <th>2020-06-07</th>\n",
       "      <th>2020-06-07</th>\n",
       "      <th>2020-06-08</th>\n",
       "      <th>2020-06-09</th>\n",
       "      <th>2020-06-10</th>\n",
       "      <th>2020-06-10</th>\n",
       "      <th>2020-06-10</th>\n",
       "      <th>2020-06-10</th>\n",
       "    </tr>\n",
       "  </thead>\n",
       "  <tbody>\n",
       "    <tr>\n",
       "      <th>0</th>\n",
       "      <td>99.751580</td>\n",
       "      <td>41.039935</td>\n",
       "      <td>93.493913</td>\n",
       "      <td>66.902935</td>\n",
       "      <td>32.044196</td>\n",
       "      <td>66.419107</td>\n",
       "      <td>122.409275</td>\n",
       "      <td>24.492825</td>\n",
       "      <td>31.211880</td>\n",
       "      <td>32.814672</td>\n",
       "    </tr>\n",
       "    <tr>\n",
       "      <th>1</th>\n",
       "      <td>69.165935</td>\n",
       "      <td>47.908396</td>\n",
       "      <td>67.554907</td>\n",
       "      <td>109.046060</td>\n",
       "      <td>14.903680</td>\n",
       "      <td>61.665326</td>\n",
       "      <td>107.105495</td>\n",
       "      <td>29.259755</td>\n",
       "      <td>32.348858</td>\n",
       "      <td>18.641280</td>\n",
       "    </tr>\n",
       "    <tr>\n",
       "      <th>2</th>\n",
       "      <td>82.097260</td>\n",
       "      <td>41.205536</td>\n",
       "      <td>77.519773</td>\n",
       "      <td>75.464375</td>\n",
       "      <td>41.233320</td>\n",
       "      <td>37.660307</td>\n",
       "      <td>34.099353</td>\n",
       "      <td>46.525715</td>\n",
       "      <td>39.120474</td>\n",
       "      <td>14.031744</td>\n",
       "    </tr>\n",
       "    <tr>\n",
       "      <th>3</th>\n",
       "      <td>76.162253</td>\n",
       "      <td>49.155870</td>\n",
       "      <td>104.369230</td>\n",
       "      <td>80.596316</td>\n",
       "      <td>22.511722</td>\n",
       "      <td>55.285879</td>\n",
       "      <td>65.111738</td>\n",
       "      <td>37.090685</td>\n",
       "      <td>21.847185</td>\n",
       "      <td>15.798649</td>\n",
       "    </tr>\n",
       "    <tr>\n",
       "      <th>4</th>\n",
       "      <td>49.996191</td>\n",
       "      <td>70.795400</td>\n",
       "      <td>59.548327</td>\n",
       "      <td>56.638547</td>\n",
       "      <td>24.779011</td>\n",
       "      <td>11.976199</td>\n",
       "      <td>119.922186</td>\n",
       "      <td>66.819126</td>\n",
       "      <td>49.677905</td>\n",
       "      <td>40.156984</td>\n",
       "    </tr>\n",
       "    <tr>\n",
       "      <th>5</th>\n",
       "      <td>80.555113</td>\n",
       "      <td>25.725200</td>\n",
       "      <td>125.089836</td>\n",
       "      <td>85.813226</td>\n",
       "      <td>27.821760</td>\n",
       "      <td>12.257830</td>\n",
       "      <td>61.931694</td>\n",
       "      <td>32.642292</td>\n",
       "      <td>36.459608</td>\n",
       "      <td>48.074930</td>\n",
       "    </tr>\n",
       "    <tr>\n",
       "      <th>6</th>\n",
       "      <td>132.313207</td>\n",
       "      <td>50.335698</td>\n",
       "      <td>57.063406</td>\n",
       "      <td>107.269454</td>\n",
       "      <td>15.754265</td>\n",
       "      <td>44.757760</td>\n",
       "      <td>48.782933</td>\n",
       "      <td>70.483728</td>\n",
       "      <td>45.251242</td>\n",
       "      <td>23.157007</td>\n",
       "    </tr>\n",
       "    <tr>\n",
       "      <th>7</th>\n",
       "      <td>118.668693</td>\n",
       "      <td>33.906345</td>\n",
       "      <td>102.293335</td>\n",
       "      <td>92.528915</td>\n",
       "      <td>39.562590</td>\n",
       "      <td>54.784480</td>\n",
       "      <td>66.499452</td>\n",
       "      <td>43.154635</td>\n",
       "      <td>48.388661</td>\n",
       "      <td>49.213574</td>\n",
       "    </tr>\n",
       "    <tr>\n",
       "      <th>8</th>\n",
       "      <td>97.323495</td>\n",
       "      <td>61.458700</td>\n",
       "      <td>33.933635</td>\n",
       "      <td>89.636640</td>\n",
       "      <td>42.674279</td>\n",
       "      <td>20.726856</td>\n",
       "      <td>63.223840</td>\n",
       "      <td>75.289383</td>\n",
       "      <td>32.906248</td>\n",
       "      <td>55.514818</td>\n",
       "    </tr>\n",
       "    <tr>\n",
       "      <th>9</th>\n",
       "      <td>88.024754</td>\n",
       "      <td>48.716588</td>\n",
       "      <td>105.148166</td>\n",
       "      <td>121.669805</td>\n",
       "      <td>44.402936</td>\n",
       "      <td>30.362494</td>\n",
       "      <td>104.535887</td>\n",
       "      <td>24.037394</td>\n",
       "      <td>56.697534</td>\n",
       "      <td>35.752466</td>\n",
       "    </tr>\n",
       "  </tbody>\n",
       "</table>\n",
       "</div>"
      ],
      "text/plain": [
       "   2020-06-07  2020-06-07  2020-06-07  2020-06-07  2020-06-08  2020-06-09  \\\n",
       "0   99.751580   41.039935   93.493913   66.902935   32.044196   66.419107   \n",
       "1   69.165935   47.908396   67.554907  109.046060   14.903680   61.665326   \n",
       "2   82.097260   41.205536   77.519773   75.464375   41.233320   37.660307   \n",
       "3   76.162253   49.155870  104.369230   80.596316   22.511722   55.285879   \n",
       "4   49.996191   70.795400   59.548327   56.638547   24.779011   11.976199   \n",
       "5   80.555113   25.725200  125.089836   85.813226   27.821760   12.257830   \n",
       "6  132.313207   50.335698   57.063406  107.269454   15.754265   44.757760   \n",
       "7  118.668693   33.906345  102.293335   92.528915   39.562590   54.784480   \n",
       "8   97.323495   61.458700   33.933635   89.636640   42.674279   20.726856   \n",
       "9   88.024754   48.716588  105.148166  121.669805   44.402936   30.362494   \n",
       "\n",
       "   2020-06-10  2020-06-10  2020-06-10  2020-06-10  \n",
       "0  122.409275   24.492825   31.211880   32.814672  \n",
       "1  107.105495   29.259755   32.348858   18.641280  \n",
       "2   34.099353   46.525715   39.120474   14.031744  \n",
       "3   65.111738   37.090685   21.847185   15.798649  \n",
       "4  119.922186   66.819126   49.677905   40.156984  \n",
       "5   61.931694   32.642292   36.459608   48.074930  \n",
       "6   48.782933   70.483728   45.251242   23.157007  \n",
       "7   66.499452   43.154635   48.388661   49.213574  \n",
       "8   63.223840   75.289383   32.906248   55.514818  \n",
       "9  104.535887   24.037394   56.697534   35.752466  "
      ]
     },
     "execution_count": 5,
     "metadata": {},
     "output_type": "execute_result"
    }
   ],
   "source": [
    "date_df = M.transform_data(df_wide, \"day\")\n",
    "date_df.iloc[:,:10]"
   ]
  },
  {
   "cell_type": "markdown",
   "metadata": {},
   "source": [
    "Since it's hard to get a sense by looking at numbers, we can plot a __heatmap__:"
   ]
  },
  {
   "cell_type": "code",
   "execution_count": 6,
   "metadata": {},
   "outputs": [
    {
     "data": {
      "image/png": "[encoded data removed]",
      "text/plain": [
       "<Figure size 1200x480 with 1 Axes>"
      ]
     },
     "metadata": {},
     "output_type": "display_data"
    }
   ],
   "source": [
    "fig=plt.figure(figsize=(15, 6), dpi= 80, facecolor='w', edgecolor='k')\n",
    "plt.imshow(date_df, cmap='hot', interpolation='nearest')\n",
    "plt.show()"
   ]
  },
  {
   "cell_type": "markdown",
   "metadata": {},
   "source": [
    "There's a lot of variation but we can see how some tests result in lower speeds and others in higher speeds by looking at the vertical bands. The first few tests had unusually high speeds but eventually we get streaks of low speeds. \n",
    "\n",
    "Another way to visualize this would be __boxplots__ to show the variation `within` and `in-between` tests:"
   ]
  },
  {
   "cell_type": "code",
   "execution_count": 7,
   "metadata": {},
   "outputs": [
    {
     "data": {
      "image/png": "[encoded data removed]",
      "text/plain": [
       "<Figure size 1440x576 with 1 Axes>"
      ]
     },
     "metadata": {
      "needs_background": "light"
     },
     "output_type": "display_data"
    }
   ],
   "source": [
    "M.plot_results(date_df, \"Date\")"
   ]
  },
  {
   "cell_type": "markdown",
   "metadata": {},
   "source": [
    "## Laptop location\n",
    "\n",
    "The laptop's location matters but so does the location of the router during a given test, and another confounder is the laptop used.\n",
    "\n",
    "Since my data collection strategy was evolving and less than optimal, stratification leads to incomplete sample sizes. A large subsample comes from the \"upper east\" room:"
   ]
  },
  {
   "cell_type": "code",
   "execution_count": 8,
   "metadata": {},
   "outputs": [
    {
     "data": {
      "image/png": "[encoded data removed]",
      "text/plain": [
       "<Figure size 1440x576 with 1 Axes>"
      ]
     },
     "metadata": {
      "needs_background": "light"
     },
     "output_type": "display_data"
    }
   ],
   "source": [
    "loc_df = M.transform_data(df_wide, 'location')\n",
    "M.plot_results(loc_df[['upper east']], \"Laptop Location\")"
   ]
  },
  {
   "cell_type": "markdown",
   "metadata": {},
   "source": [
    "However, I moved the router to the hallway upstairs for the last four tests - and it also just so happened that I used the old Dell (Inspiron 13-5378) more so I expected a boost in speed from the router shift and a decrease in speed from using the old laptop. Notice how the best result comes from using the new Dell laptop:"
   ]
  },
  {
   "cell_type": "code",
   "execution_count": 9,
   "metadata": {},
   "outputs": [
    {
     "data": {
      "text/html": [
       "<div>\n",
       "<style scoped>\n",
       "    .dataframe tbody tr th:only-of-type {\n",
       "        vertical-align: middle;\n",
       "    }\n",
       "\n",
       "    .dataframe tbody tr th {\n",
       "        vertical-align: top;\n",
       "    }\n",
       "\n",
       "    .dataframe thead th {\n",
       "        text-align: right;\n",
       "    }\n",
       "</style>\n",
       "<table border=\"1\" class=\"dataframe\">\n",
       "  <thead>\n",
       "    <tr style=\"text-align: right;\">\n",
       "      <th></th>\n",
       "      <th>test</th>\n",
       "      <th>day</th>\n",
       "      <th>location</th>\n",
       "      <th>computer</th>\n",
       "      <th>router_location</th>\n",
       "      <th>data</th>\n",
       "    </tr>\n",
       "  </thead>\n",
       "  <tbody>\n",
       "    <tr>\n",
       "      <th>1</th>\n",
       "      <td>2</td>\n",
       "      <td>2020-06-07</td>\n",
       "      <td>upper east</td>\n",
       "      <td>HP ProBook 450 G5</td>\n",
       "      <td>living room west corner</td>\n",
       "      <td>{'time': ['12:46:26', '12:50:20', '12:52:20', ...</td>\n",
       "    </tr>\n",
       "    <tr>\n",
       "      <th>4</th>\n",
       "      <td>5</td>\n",
       "      <td>2020-06-08</td>\n",
       "      <td>upper east</td>\n",
       "      <td>HP ProBook 450 G5</td>\n",
       "      <td>living room west corner</td>\n",
       "      <td>{'time': ['16:26:02', '16:28:46', '16:32:11', ...</td>\n",
       "    </tr>\n",
       "    <tr>\n",
       "      <th>8</th>\n",
       "      <td>9</td>\n",
       "      <td>2020-06-10</td>\n",
       "      <td>upper east</td>\n",
       "      <td>HP ProBook 4530s</td>\n",
       "      <td>living room west corner</td>\n",
       "      <td>{'time': ['13:20:36', '13:25:25', '13:26:01', ...</td>\n",
       "    </tr>\n",
       "    <tr>\n",
       "      <th>9</th>\n",
       "      <td>10</td>\n",
       "      <td>2020-06-10</td>\n",
       "      <td>upper east</td>\n",
       "      <td>HP ProBook 4530s</td>\n",
       "      <td>living room west corner</td>\n",
       "      <td>{'time': ['16:29:26', '16:32:21', '16:34:55', ...</td>\n",
       "    </tr>\n",
       "    <tr>\n",
       "      <th>12</th>\n",
       "      <td>13</td>\n",
       "      <td>2020-06-11</td>\n",
       "      <td>upper east</td>\n",
       "      <td>Inspiron 13-5378</td>\n",
       "      <td>living room west corner</td>\n",
       "      <td>{'time': ['11:16:49', '11:20:01', '11:20:54', ...</td>\n",
       "    </tr>\n",
       "    <tr>\n",
       "      <th>13</th>\n",
       "      <td>14</td>\n",
       "      <td>2020-06-11</td>\n",
       "      <td>upper east</td>\n",
       "      <td>Inspiron 13-5378</td>\n",
       "      <td>living room west corner</td>\n",
       "      <td>{'time': ['14:32:27', '14:32:51', '14:37:59', ...</td>\n",
       "    </tr>\n",
       "    <tr>\n",
       "      <th>15</th>\n",
       "      <td>16</td>\n",
       "      <td>2020-06-11</td>\n",
       "      <td>upper east</td>\n",
       "      <td>HP ProBook 4530s</td>\n",
       "      <td>living room west corner</td>\n",
       "      <td>{'time': ['20:40:05', '20:41:36', '20:46:18', ...</td>\n",
       "    </tr>\n",
       "    <tr>\n",
       "      <th>18</th>\n",
       "      <td>19</td>\n",
       "      <td>2020-06-12</td>\n",
       "      <td>upper east</td>\n",
       "      <td>Inspiron 13-5378</td>\n",
       "      <td>living room west corner</td>\n",
       "      <td>{'time': ['20:43:00', '20:43:26', '20:45:09', ...</td>\n",
       "    </tr>\n",
       "    <tr>\n",
       "      <th>20</th>\n",
       "      <td>21</td>\n",
       "      <td>2020-06-13</td>\n",
       "      <td>upper east</td>\n",
       "      <td>HP ProBook 450 G5</td>\n",
       "      <td>living room west corner</td>\n",
       "      <td>{'time': ['12:58:07', '12:58:36', '13:03:25', ...</td>\n",
       "    </tr>\n",
       "    <tr>\n",
       "      <th>23</th>\n",
       "      <td>24</td>\n",
       "      <td>2020-06-13</td>\n",
       "      <td>upper east</td>\n",
       "      <td>Inspiron 13-5378</td>\n",
       "      <td>hallway upstairs</td>\n",
       "      <td>{'time': ['19:12:06', '19:13:22', '19:14:48', ...</td>\n",
       "    </tr>\n",
       "    <tr>\n",
       "      <th>25</th>\n",
       "      <td>26</td>\n",
       "      <td>2020-06-14</td>\n",
       "      <td>upper east</td>\n",
       "      <td>Inspiron 13-5378</td>\n",
       "      <td>hallway upstairs</td>\n",
       "      <td>{'time': ['11:41:56', '11:45:05', '11:46:31', ...</td>\n",
       "    </tr>\n",
       "    <tr>\n",
       "      <th>26</th>\n",
       "      <td>27</td>\n",
       "      <td>2020-06-14</td>\n",
       "      <td>upper east</td>\n",
       "      <td>Dell System Inspiron N7110</td>\n",
       "      <td>hallway upstairs</td>\n",
       "      <td>{'time': ['11:27:06', '11:32:27', '11:36:39', ...</td>\n",
       "    </tr>\n",
       "    <tr>\n",
       "      <th>31</th>\n",
       "      <td>32</td>\n",
       "      <td>2020-06-17</td>\n",
       "      <td>upper east</td>\n",
       "      <td>Inspiron 13-5378</td>\n",
       "      <td>hallway upstairs</td>\n",
       "      <td>{'time': ['11:00:50', '11:05:55', '11:08:29', ...</td>\n",
       "    </tr>\n",
       "  </tbody>\n",
       "</table>\n",
       "</div>"
      ],
      "text/plain": [
       "   test         day    location                    computer  \\\n",
       "1     2  2020-06-07  upper east           HP ProBook 450 G5   \n",
       "4     5  2020-06-08  upper east           HP ProBook 450 G5   \n",
       "8     9  2020-06-10  upper east            HP ProBook 4530s   \n",
       "9    10  2020-06-10  upper east            HP ProBook 4530s   \n",
       "12   13  2020-06-11  upper east            Inspiron 13-5378   \n",
       "13   14  2020-06-11  upper east            Inspiron 13-5378   \n",
       "15   16  2020-06-11  upper east            HP ProBook 4530s   \n",
       "18   19  2020-06-12  upper east            Inspiron 13-5378   \n",
       "20   21  2020-06-13  upper east           HP ProBook 450 G5   \n",
       "23   24  2020-06-13  upper east            Inspiron 13-5378   \n",
       "25   26  2020-06-14  upper east            Inspiron 13-5378   \n",
       "26   27  2020-06-14  upper east  Dell System Inspiron N7110   \n",
       "31   32  2020-06-17  upper east            Inspiron 13-5378   \n",
       "\n",
       "            router_location                                               data  \n",
       "1   living room west corner  {'time': ['12:46:26', '12:50:20', '12:52:20', ...  \n",
       "4   living room west corner  {'time': ['16:26:02', '16:28:46', '16:32:11', ...  \n",
       "8   living room west corner  {'time': ['13:20:36', '13:25:25', '13:26:01', ...  \n",
       "9   living room west corner  {'time': ['16:29:26', '16:32:21', '16:34:55', ...  \n",
       "12  living room west corner  {'time': ['11:16:49', '11:20:01', '11:20:54', ...  \n",
       "13  living room west corner  {'time': ['14:32:27', '14:32:51', '14:37:59', ...  \n",
       "15  living room west corner  {'time': ['20:40:05', '20:41:36', '20:46:18', ...  \n",
       "18  living room west corner  {'time': ['20:43:00', '20:43:26', '20:45:09', ...  \n",
       "20  living room west corner  {'time': ['12:58:07', '12:58:36', '13:03:25', ...  \n",
       "23         hallway upstairs  {'time': ['19:12:06', '19:13:22', '19:14:48', ...  \n",
       "25         hallway upstairs  {'time': ['11:41:56', '11:45:05', '11:46:31', ...  \n",
       "26         hallway upstairs  {'time': ['11:27:06', '11:32:27', '11:36:39', ...  \n",
       "31         hallway upstairs  {'time': ['11:00:50', '11:05:55', '11:08:29', ...  "
      ]
     },
     "execution_count": 9,
     "metadata": {},
     "output_type": "execute_result"
    }
   ],
   "source": [
    "df_long[df_long['location']=='upper east']"
   ]
  },
  {
   "cell_type": "markdown",
   "metadata": {},
   "source": [
    "Here I compare upper west and lower west locations:"
   ]
  },
  {
   "cell_type": "code",
   "execution_count": 10,
   "metadata": {},
   "outputs": [
    {
     "data": {
      "image/png": "[encoded data removed]",
      "text/plain": [
       "<Figure size 1440x576 with 1 Axes>"
      ]
     },
     "metadata": {
      "needs_background": "light"
     },
     "output_type": "display_data"
    }
   ],
   "source": [
    "M.plot_results(loc_df[['upper west', 'lower west']], \"Laptop Location\")"
   ]
  },
  {
   "cell_type": "markdown",
   "metadata": {},
   "source": [
    "The data is noisy. First I have some \"good luck\" with speeds even though I'm in the upper west room and the router is in the living room (downstairs), but then the speeds decrease and I move the router to the hallway upstairs (where it lives now) and speeds improve initially but decrease as well. \n",
    "\n",
    "Despite the smaller number of tests in the lower west room (where I work), I get a significant decrease of speeds by moving the router to the hallway upstairs."
   ]
  },
  {
   "cell_type": "code",
   "execution_count": 11,
   "metadata": {},
   "outputs": [
    {
     "data": {
      "text/html": [
       "<div>\n",
       "<style scoped>\n",
       "    .dataframe tbody tr th:only-of-type {\n",
       "        vertical-align: middle;\n",
       "    }\n",
       "\n",
       "    .dataframe tbody tr th {\n",
       "        vertical-align: top;\n",
       "    }\n",
       "\n",
       "    .dataframe thead th {\n",
       "        text-align: right;\n",
       "    }\n",
       "</style>\n",
       "<table border=\"1\" class=\"dataframe\">\n",
       "  <thead>\n",
       "    <tr style=\"text-align: right;\">\n",
       "      <th></th>\n",
       "      <th>test</th>\n",
       "      <th>day</th>\n",
       "      <th>location</th>\n",
       "      <th>computer</th>\n",
       "      <th>router_location</th>\n",
       "      <th>data</th>\n",
       "    </tr>\n",
       "  </thead>\n",
       "  <tbody>\n",
       "    <tr>\n",
       "      <th>3</th>\n",
       "      <td>4</td>\n",
       "      <td>2020-06-07</td>\n",
       "      <td>upper west</td>\n",
       "      <td>HP ProBook 450 G5</td>\n",
       "      <td>living room west corner</td>\n",
       "      <td>{'time': ['14:09:46', '14:11:36', '14:16:51', ...</td>\n",
       "    </tr>\n",
       "    <tr>\n",
       "      <th>5</th>\n",
       "      <td>6</td>\n",
       "      <td>2020-06-09</td>\n",
       "      <td>upper west</td>\n",
       "      <td>HP ProBook 450 G5</td>\n",
       "      <td>living room west corner</td>\n",
       "      <td>{'time': ['18:19:50', '18:24:21', '18:28:50', ...</td>\n",
       "    </tr>\n",
       "    <tr>\n",
       "      <th>6</th>\n",
       "      <td>7</td>\n",
       "      <td>2020-06-10</td>\n",
       "      <td>upper west</td>\n",
       "      <td>HP ProBook 450 G5</td>\n",
       "      <td>living room west corner</td>\n",
       "      <td>{'time': ['10:29:54', '10:32:24', '10:33:27', ...</td>\n",
       "    </tr>\n",
       "    <tr>\n",
       "      <th>7</th>\n",
       "      <td>8</td>\n",
       "      <td>2020-06-10</td>\n",
       "      <td>upper west</td>\n",
       "      <td>HP ProBook 4530s</td>\n",
       "      <td>living room west corner</td>\n",
       "      <td>{'time': ['11:06:16', '11:07:59', '11:11:08', ...</td>\n",
       "    </tr>\n",
       "    <tr>\n",
       "      <th>10</th>\n",
       "      <td>11</td>\n",
       "      <td>2020-06-10</td>\n",
       "      <td>upper west</td>\n",
       "      <td>HP ProBook 450 G5</td>\n",
       "      <td>living room west corner</td>\n",
       "      <td>{'time': ['19:10:53', '19:12:59', '19:13:24', ...</td>\n",
       "    </tr>\n",
       "    <tr>\n",
       "      <th>11</th>\n",
       "      <td>12</td>\n",
       "      <td>2020-06-11</td>\n",
       "      <td>upper west</td>\n",
       "      <td>HP ProBook 4530s</td>\n",
       "      <td>living room west corner</td>\n",
       "      <td>{'time': ['10:01:30', '10:03:46', '10:05:48', ...</td>\n",
       "    </tr>\n",
       "    <tr>\n",
       "      <th>14</th>\n",
       "      <td>15</td>\n",
       "      <td>2020-06-11</td>\n",
       "      <td>upper west</td>\n",
       "      <td>HP ProBook 4530s</td>\n",
       "      <td>living room west corner</td>\n",
       "      <td>{'time': ['14:33:51', '14:38:11', '14:40:45', ...</td>\n",
       "    </tr>\n",
       "    <tr>\n",
       "      <th>16</th>\n",
       "      <td>17</td>\n",
       "      <td>2020-06-11</td>\n",
       "      <td>upper west</td>\n",
       "      <td>Inspiron 13-5378</td>\n",
       "      <td>living room west corner</td>\n",
       "      <td>{'time': ['20:38:44', '20:41:07', '20:45:26', ...</td>\n",
       "    </tr>\n",
       "    <tr>\n",
       "      <th>17</th>\n",
       "      <td>18</td>\n",
       "      <td>2020-06-12</td>\n",
       "      <td>upper west</td>\n",
       "      <td>HP ProBook 4530s</td>\n",
       "      <td>living room west corner</td>\n",
       "      <td>{'time': ['20:32:08', '20:35:44', '20:38:53', ...</td>\n",
       "    </tr>\n",
       "    <tr>\n",
       "      <th>19</th>\n",
       "      <td>20</td>\n",
       "      <td>2020-06-13</td>\n",
       "      <td>upper west</td>\n",
       "      <td>Inspiron 13-5378</td>\n",
       "      <td>living room west corner</td>\n",
       "      <td>{'time': ['12:14:38', '12:15:51', '12:20:27', ...</td>\n",
       "    </tr>\n",
       "    <tr>\n",
       "      <th>24</th>\n",
       "      <td>25</td>\n",
       "      <td>2020-06-13</td>\n",
       "      <td>upper west</td>\n",
       "      <td>HP ProBook 450 G5</td>\n",
       "      <td>hallway upstairs</td>\n",
       "      <td>{'time': ['18:57:49', '18:58:43', '19:01:42', ...</td>\n",
       "    </tr>\n",
       "    <tr>\n",
       "      <th>27</th>\n",
       "      <td>28</td>\n",
       "      <td>2020-06-14</td>\n",
       "      <td>upper west</td>\n",
       "      <td>HP ProBook 450 G5</td>\n",
       "      <td>hallway upstairs</td>\n",
       "      <td>{'time': ['12:20:42', '12:24:41', '12:28:20', ...</td>\n",
       "    </tr>\n",
       "    <tr>\n",
       "      <th>28</th>\n",
       "      <td>29</td>\n",
       "      <td>2020-06-15</td>\n",
       "      <td>upper west</td>\n",
       "      <td>HP ProBook 450 G5</td>\n",
       "      <td>hallway upstairs</td>\n",
       "      <td>{'time': ['18:39:45', '18:42:19', '18:43:01', ...</td>\n",
       "    </tr>\n",
       "    <tr>\n",
       "      <th>29</th>\n",
       "      <td>30</td>\n",
       "      <td>2020-06-15</td>\n",
       "      <td>upper west</td>\n",
       "      <td>HP ProBook 4530s</td>\n",
       "      <td>hallway upstairs</td>\n",
       "      <td>{'time': ['20:14:42', '20:19:18', '20:21:39', ...</td>\n",
       "    </tr>\n",
       "    <tr>\n",
       "      <th>30</th>\n",
       "      <td>31</td>\n",
       "      <td>2020-06-16</td>\n",
       "      <td>upper west</td>\n",
       "      <td>HP ProBook 450 G5</td>\n",
       "      <td>hallway upstairs</td>\n",
       "      <td>{'time': ['19:19:56', '19:21:49', '19:23:09', ...</td>\n",
       "    </tr>\n",
       "    <tr>\n",
       "      <th>32</th>\n",
       "      <td>33</td>\n",
       "      <td>2020-06-17</td>\n",
       "      <td>upper west</td>\n",
       "      <td>HP ProBook 4530s</td>\n",
       "      <td>hallway upstairs</td>\n",
       "      <td>{'time': ['12:56:40', '12:58:19', '13:01:54', ...</td>\n",
       "    </tr>\n",
       "    <tr>\n",
       "      <th>35</th>\n",
       "      <td>36</td>\n",
       "      <td>2020-06-17</td>\n",
       "      <td>upper west</td>\n",
       "      <td>HP ProBook 450 G5</td>\n",
       "      <td>hallway upstairs</td>\n",
       "      <td>{'time': ['18:17:20', '18:20:22', '18:24:40', ...</td>\n",
       "    </tr>\n",
       "    <tr>\n",
       "      <th>2</th>\n",
       "      <td>3</td>\n",
       "      <td>2020-06-07</td>\n",
       "      <td>lower west</td>\n",
       "      <td>HP ProBook 450 G5</td>\n",
       "      <td>living room west corner</td>\n",
       "      <td>{'time': ['13:31:28', '13:35:30', '13:38:15', ...</td>\n",
       "    </tr>\n",
       "    <tr>\n",
       "      <th>21</th>\n",
       "      <td>22</td>\n",
       "      <td>2020-06-13</td>\n",
       "      <td>lower west</td>\n",
       "      <td>HP ProBook 4530s</td>\n",
       "      <td>living room west corner</td>\n",
       "      <td>{'time': ['14:02:31', '14:05:38', '14:10:09', ...</td>\n",
       "    </tr>\n",
       "    <tr>\n",
       "      <th>22</th>\n",
       "      <td>23</td>\n",
       "      <td>2020-06-13</td>\n",
       "      <td>lower west</td>\n",
       "      <td>HP ProBook 4530s</td>\n",
       "      <td>hallway upstairs</td>\n",
       "      <td>{'time': ['15:16:49', '15:20:24', '15:24:12', ...</td>\n",
       "    </tr>\n",
       "    <tr>\n",
       "      <th>33</th>\n",
       "      <td>34</td>\n",
       "      <td>2020-06-17</td>\n",
       "      <td>lower west</td>\n",
       "      <td>HP ProBook 450 G5</td>\n",
       "      <td>hallway upstairs</td>\n",
       "      <td>{'time': ['13:37:57', '13:42:31', '13:44:23', ...</td>\n",
       "    </tr>\n",
       "    <tr>\n",
       "      <th>36</th>\n",
       "      <td>37</td>\n",
       "      <td>2020-06-23</td>\n",
       "      <td>lower west</td>\n",
       "      <td>HP ProBook 450 G5</td>\n",
       "      <td>hallway upstairs</td>\n",
       "      <td>{'time': ['14:29:51', '14:31:49', '14:33:36', ...</td>\n",
       "    </tr>\n",
       "  </tbody>\n",
       "</table>\n",
       "</div>"
      ],
      "text/plain": [
       "   test         day    location           computer          router_location  \\\n",
       "3     4  2020-06-07  upper west  HP ProBook 450 G5  living room west corner   \n",
       "5     6  2020-06-09  upper west  HP ProBook 450 G5  living room west corner   \n",
       "6     7  2020-06-10  upper west  HP ProBook 450 G5  living room west corner   \n",
       "7     8  2020-06-10  upper west   HP ProBook 4530s  living room west corner   \n",
       "10   11  2020-06-10  upper west  HP ProBook 450 G5  living room west corner   \n",
       "11   12  2020-06-11  upper west   HP ProBook 4530s  living room west corner   \n",
       "14   15  2020-06-11  upper west   HP ProBook 4530s  living room west corner   \n",
       "16   17  2020-06-11  upper west   Inspiron 13-5378  living room west corner   \n",
       "17   18  2020-06-12  upper west   HP ProBook 4530s  living room west corner   \n",
       "19   20  2020-06-13  upper west   Inspiron 13-5378  living room west corner   \n",
       "24   25  2020-06-13  upper west  HP ProBook 450 G5         hallway upstairs   \n",
       "27   28  2020-06-14  upper west  HP ProBook 450 G5         hallway upstairs   \n",
       "28   29  2020-06-15  upper west  HP ProBook 450 G5         hallway upstairs   \n",
       "29   30  2020-06-15  upper west   HP ProBook 4530s         hallway upstairs   \n",
       "30   31  2020-06-16  upper west  HP ProBook 450 G5         hallway upstairs   \n",
       "32   33  2020-06-17  upper west   HP ProBook 4530s         hallway upstairs   \n",
       "35   36  2020-06-17  upper west  HP ProBook 450 G5         hallway upstairs   \n",
       "2     3  2020-06-07  lower west  HP ProBook 450 G5  living room west corner   \n",
       "21   22  2020-06-13  lower west   HP ProBook 4530s  living room west corner   \n",
       "22   23  2020-06-13  lower west   HP ProBook 4530s         hallway upstairs   \n",
       "33   34  2020-06-17  lower west  HP ProBook 450 G5         hallway upstairs   \n",
       "36   37  2020-06-23  lower west  HP ProBook 450 G5         hallway upstairs   \n",
       "\n",
       "                                                 data  \n",
       "3   {'time': ['14:09:46', '14:11:36', '14:16:51', ...  \n",
       "5   {'time': ['18:19:50', '18:24:21', '18:28:50', ...  \n",
       "6   {'time': ['10:29:54', '10:32:24', '10:33:27', ...  \n",
       "7   {'time': ['11:06:16', '11:07:59', '11:11:08', ...  \n",
       "10  {'time': ['19:10:53', '19:12:59', '19:13:24', ...  \n",
       "11  {'time': ['10:01:30', '10:03:46', '10:05:48', ...  \n",
       "14  {'time': ['14:33:51', '14:38:11', '14:40:45', ...  \n",
       "16  {'time': ['20:38:44', '20:41:07', '20:45:26', ...  \n",
       "17  {'time': ['20:32:08', '20:35:44', '20:38:53', ...  \n",
       "19  {'time': ['12:14:38', '12:15:51', '12:20:27', ...  \n",
       "24  {'time': ['18:57:49', '18:58:43', '19:01:42', ...  \n",
       "27  {'time': ['12:20:42', '12:24:41', '12:28:20', ...  \n",
       "28  {'time': ['18:39:45', '18:42:19', '18:43:01', ...  \n",
       "29  {'time': ['20:14:42', '20:19:18', '20:21:39', ...  \n",
       "30  {'time': ['19:19:56', '19:21:49', '19:23:09', ...  \n",
       "32  {'time': ['12:56:40', '12:58:19', '13:01:54', ...  \n",
       "35  {'time': ['18:17:20', '18:20:22', '18:24:40', ...  \n",
       "2   {'time': ['13:31:28', '13:35:30', '13:38:15', ...  \n",
       "21  {'time': ['14:02:31', '14:05:38', '14:10:09', ...  \n",
       "22  {'time': ['15:16:49', '15:20:24', '15:24:12', ...  \n",
       "33  {'time': ['13:37:57', '13:42:31', '13:44:23', ...  \n",
       "36  {'time': ['14:29:51', '14:31:49', '14:33:36', ...  "
      ]
     },
     "execution_count": 11,
     "metadata": {},
     "output_type": "execute_result"
    }
   ],
   "source": [
    "df_long[df_long['location'].isin(['upper west', 'lower west'])]\\\n",
    "    .sort_values(by=['location','test'], ascending=[False, True])"
   ]
  },
  {
   "cell_type": "markdown",
   "metadata": {},
   "source": [
    "\n",
    "## Computer\n",
    "\n",
    "All this is of cousre confounded by the old vs new laptops, which as you'd expect, show the clearest signals."
   ]
  },
  {
   "cell_type": "code",
   "execution_count": 12,
   "metadata": {},
   "outputs": [
    {
     "data": {
      "image/png": "[encoded data removed]",
      "text/plain": [
       "<Figure size 1440x576 with 1 Axes>"
      ]
     },
     "metadata": {
      "needs_background": "light"
     },
     "output_type": "display_data"
    }
   ],
   "source": [
    "# HP laptops\n",
    "comp_df = M.transform_data(df_wide, \"computer\")\n",
    "M.plot_results(comp_df[['HP ProBook 450 G5', 'HP ProBook 4530s']], \"HP Laptops\")"
   ]
  },
  {
   "cell_type": "markdown",
   "metadata": {},
   "source": [
    "The newer HP ProBook gets greater speeds but also has its bad moments and greater variance than I'd have hoped for."
   ]
  },
  {
   "cell_type": "code",
   "execution_count": 13,
   "metadata": {},
   "outputs": [
    {
     "data": {
      "image/png": "[encoded data removed]",
      "text/plain": [
       "<Figure size 1008x403.2 with 1 Axes>"
      ]
     },
     "metadata": {
      "needs_background": "light"
     },
     "output_type": "display_data"
    }
   ],
   "source": [
    "# Dell laptops\n",
    "M.plot_results(comp_df[['Inspiron 13-5378', 'Dell System Inspiron N7110']], \"Dell Laptops\", scale=.7)"
   ]
  },
  {
   "cell_type": "markdown",
   "metadata": {},
   "source": [
    "*Statistics* vs *common sense*:\n",
    "- I was mostly concerned about speeds for the old Dell so I did not test the new Dell more than once, which is statistically unsound but makes sense, I did not need more than one test to confirm what I knew and was experiencing. I also had less access to these computers."
   ]
  },
  {
   "cell_type": "markdown",
   "metadata": {},
   "source": [
    "---"
   ]
  }
 ],
 "metadata": {
  "kernelspec": {
   "display_name": "Python 3",
   "language": "python",
   "name": "python3"
  },
  "language_info": {
   "codemirror_mode": {
    "name": "ipython",
    "version": 3
   },
   "file_extension": ".py",
   "mimetype": "text/x-python",
   "name": "python",
   "nbconvert_exporter": "python",
   "pygments_lexer": "ipython3",
   "version": "3.8.5"
  }
 },
 "nbformat": 4,
 "nbformat_minor": 4
}
