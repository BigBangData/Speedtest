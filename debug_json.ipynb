{
 "cells": [
  {
   "cell_type": "markdown",
   "metadata": {},
   "source": [
    "### Debugging\n",
    "\n",
    "Old debugging notebook."
   ]
  },
  {
   "cell_type": "code",
   "execution_count": 1,
   "metadata": {},
   "outputs": [],
   "source": [
    "import os\n",
    "import re\n",
    "import json\n",
    "import time\n",
    "import random\n",
    "import subprocess\n",
    "from datetime import datetime"
   ]
  },
  {
   "cell_type": "code",
   "execution_count": 5,
   "metadata": {},
   "outputs": [],
   "source": [
    "filelist = [x for x in os.listdir('data') if x != 'deprecated']\n",
    "\n",
    "filelist.sort(key=lambda x: int(re.sub('\\D', '', x)))    "
   ]
  },
  {
   "cell_type": "code",
   "execution_count": 6,
   "metadata": {},
   "outputs": [
    {
     "data": {
      "text/plain": [
       "['test1.json', 'test2.json', 'test3.json', 'test4.json', 'test5.json']"
      ]
     },
     "execution_count": 6,
     "metadata": {},
     "output_type": "execute_result"
    }
   ],
   "source": [
    "filelist"
   ]
  },
  {
   "cell_type": "code",
   "execution_count": 34,
   "metadata": {},
   "outputs": [],
   "source": [
    "filelist1 = ['test1.json',\n",
    " 'test2.json',\n",
    " 'test3.json',\n",
    " 'test4.json',\n",
    " 'test5.json',\n",
    " 'test6.json',\n",
    " 'test7.json',\n",
    " 'test8.json',\n",
    " 'test9.json',\n",
    " 'test10.json',\n",
    " 'test11.json',\n",
    " 'test12.json',\n",
    " 'test13.json',\n",
    " 'test14.json',\n",
    " 'test15.json',\n",
    " 'test16.json',\n",
    " 'test17.json',\n",
    " 'test18.json',\n",
    " 'test19.json',\n",
    " 'test20.json',\n",
    " 'test21.json',\n",
    " 'test22.json']"
   ]
  },
  {
   "cell_type": "code",
   "execution_count": 40,
   "metadata": {},
   "outputs": [],
   "source": [
    "fixed_dicts1 = []\n",
    "for i, file in enumerate(filelist1):\n",
    "    \n",
    "    with open('data/' + file, 'r') as f:\n",
    "        _dict = json.loads(f.read())\n",
    "        \n",
    "        _dict['test'] = i+1\n",
    "        _dict['router_location'] = 'living room west corner'\n",
    "        \n",
    "        keyorder = ['test', 'day', 'location', 'computer', 'router_location', 'data']\n",
    "        \n",
    "        res = dict()\n",
    "        for key in keyorder:\n",
    "            res[key] = _dict[key]\n",
    "        \n",
    "        fixed_dicts1.append(res)"
   ]
  },
  {
   "cell_type": "code",
   "execution_count": 41,
   "metadata": {},
   "outputs": [],
   "source": [
    "filelist2 = ['test23.json',\n",
    " 'test24.json',\n",
    " 'test25.json',\n",
    " 'test26.json',\n",
    " 'test27.json',\n",
    " 'test28.json',\n",
    " 'test29.json',\n",
    " 'test30.json',\n",
    " 'test31.json']"
   ]
  },
  {
   "cell_type": "code",
   "execution_count": 59,
   "metadata": {},
   "outputs": [],
   "source": [
    "fixed_dicts2 = []\n",
    "for i, file in enumerate(filelist2):\n",
    "    \n",
    "    with open('data/' + file, 'r') as f:\n",
    "        _dict = json.loads(f.read())\n",
    "        \n",
    "        _dict['test'] = i+23\n",
    "        _dict['router_location'] = 'hallway upstairs'\n",
    "        \n",
    "        keyorder = ['test', 'day', 'location', 'computer', 'router_location', 'data']\n",
    "        \n",
    "        res = dict()\n",
    "        for key in keyorder:\n",
    "            res[key] = _dict[key]\n",
    "        \n",
    "        fixed_dicts2.append(res)"
   ]
  },
  {
   "cell_type": "code",
   "execution_count": 61,
   "metadata": {},
   "outputs": [
    {
     "data": {
      "text/plain": [
       "{'test': 23,\n",
       " 'day': '2020-06-13',\n",
       " 'location': 'lower west NEW',\n",
       " 'computer': 'HP ProBook 4530s',\n",
       " 'router_location': 'hallway upstairs',\n",
       " 'data': {'time': ['15:16:49',\n",
       "   '15:20:24',\n",
       "   '15:24:12',\n",
       "   '15:26:55',\n",
       "   '15:28:38',\n",
       "   '15:32:22',\n",
       "   '15:35:49',\n",
       "   '15:36:56',\n",
       "   '15:41:04',\n",
       "   '15:45:30'],\n",
       "  'download': [58.593486,\n",
       "   83.177536,\n",
       "   82.263593,\n",
       "   51.4577,\n",
       "   32.801772,\n",
       "   44.986142,\n",
       "   50.675471,\n",
       "   57.353136,\n",
       "   47.443467,\n",
       "   53.237558],\n",
       "  'upload': [4.016552,\n",
       "   5.696494,\n",
       "   5.198267,\n",
       "   5.289981,\n",
       "   7.349975,\n",
       "   5.954594,\n",
       "   3.88794,\n",
       "   5.772581,\n",
       "   3.438811,\n",
       "   3.206792]}}"
      ]
     },
     "execution_count": 61,
     "metadata": {},
     "output_type": "execute_result"
    }
   ],
   "source": [
    "fixed_dicts2[0]"
   ]
  },
  {
   "cell_type": "code",
   "execution_count": 56,
   "metadata": {},
   "outputs": [],
   "source": [
    "for i, file in enumerate(fixed_dicts1):\n",
    "    with open(_dir + filelist1[i], 'w') as f:\n",
    "        json.dump(fixed_dicts1[i], f, indent=4)"
   ]
  },
  {
   "cell_type": "code",
   "execution_count": 62,
   "metadata": {},
   "outputs": [],
   "source": [
    "for i, file in enumerate(fixed_dicts2)\n",
    "    with open(_dir + filelist2[i], 'w') as f:\n",
    "        json.dump(fixed_dicts2[i], f, indent=4)"
   ]
  },
  {
   "cell_type": "code",
   "execution_count": null,
   "metadata": {},
   "outputs": [],
   "source": []
  }
 ],
 "metadata": {
  "kernelspec": {
   "display_name": "Python 3",
   "language": "python",
   "name": "python3"
  },
  "language_info": {
   "codemirror_mode": {
    "name": "ipython",
    "version": 3
   },
   "file_extension": ".py",
   "mimetype": "text/x-python",
   "name": "python",
   "nbconvert_exporter": "python",
   "pygments_lexer": "ipython3",
   "version": "3.8.5"
  }
 },
 "nbformat": 4,
 "nbformat_minor": 4
}
