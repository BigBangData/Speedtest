{
 "cells": [
  {
   "cell_type": "code",
   "execution_count": 1,
   "metadata": {},
   "outputs": [],
   "source": [
    "import os\n",
    "import re\n",
    "import json\n",
    "import time\n",
    "import random\n",
    "import subprocess\n",
    "from datetime import datetime"
   ]
  },
  {
   "cell_type": "code",
   "execution_count": 2,
   "metadata": {},
   "outputs": [],
   "source": [
    "def get_speedtest_json():\n",
    "    \"\"\"Conducts a single speedtest and returns a json\n",
    "    with the results.\n",
    "    \"\"\"\n",
    "    \n",
    "    # pass a subprocess command to cmd to get json\n",
    "    try:\n",
    "        out = subprocess.Popen(['speedtest.exe', '-f', 'json'],\n",
    "                                stdout=subprocess.PIPE,\n",
    "                                stderr=subprocess.STDOUT)\n",
    "        stdout, stderr = out.communicate()\n",
    "    except:\n",
    "        pass\n",
    "    \n",
    "    # decode bytes and transform json into a dict\n",
    "    try:\n",
    "        _json = stdout.decode('utf-8')\n",
    "        _dict = json.loads(_json)\n",
    "        \n",
    "        return(_dict)\n",
    "    \n",
    "    except (JSONDecodeError, UnboundLocalError, ValueError):\n",
    "        _dict = {}\n",
    "        \n",
    "        # use a default dict\n",
    "        _dict = {\n",
    "                    \"day\": \"2020-06-01\",\n",
    "                    \"data\": {\n",
    "                        \"time\": [\n",
    "                            \"00:00:00\"\n",
    "                        ],\n",
    "                        \"download\": [\n",
    "                            0\n",
    "                        ],\n",
    "                        \"upload\": [\n",
    "                            0\n",
    "                        ]\n",
    "                    },\n",
    "                    \"location\": \"None\",\n",
    "                    \"computer\": \"None\"\n",
    "                }\n",
    "        \n",
    "        return(_dict)"
   ]
  },
  {
   "cell_type": "code",
   "execution_count": 5,
   "metadata": {},
   "outputs": [],
   "source": [
    "_dict = get_speedtest_json()"
   ]
  },
  {
   "cell_type": "code",
   "execution_count": 6,
   "metadata": {},
   "outputs": [],
   "source": [
    "def extract_speeds(_dict):\n",
    "    \"\"\"Given a dictionary of results from the speedtest,\n",
    "    perform necessary transformations to return speeds.\n",
    "    \"\"\"\n",
    "    \n",
    "    # extract download and upload speeds in Mbps\n",
    "    download = _dict['download']['bytes']/1e6\n",
    "    upload = _dict['upload']['bytes']/1e6\n",
    "    \n",
    "    # return download an upload speeds as a tuple\n",
    "    return(download, upload)"
   ]
  },
  {
   "cell_type": "code",
   "execution_count": 7,
   "metadata": {},
   "outputs": [
    {
     "data": {
      "text/plain": [
       "(62.936172, 5.732949)"
      ]
     },
     "execution_count": 7,
     "metadata": {},
     "output_type": "execute_result"
    }
   ],
   "source": [
    "download, upload = extract_speeds(_dict)\n",
    "download, upload"
   ]
  },
  {
   "cell_type": "code",
   "execution_count": 8,
   "metadata": {},
   "outputs": [],
   "source": [
    "def extract_ping(_dict):\n",
    "    \"\"\"Given a dictionary of results from the speedtest,\n",
    "    perform necessary transformations to return ping stats.\n",
    "    \"\"\"\n",
    "    \n",
    "    jitter = _dict['ping']['jitter']\n",
    "    latency = _dict['ping']['latency']\n",
    "\n",
    "    return(jitter, latency)"
   ]
  },
  {
   "cell_type": "code",
   "execution_count": 9,
   "metadata": {},
   "outputs": [
    {
     "data": {
      "text/plain": [
       "(0.524, 10.093)"
      ]
     },
     "execution_count": 9,
     "metadata": {},
     "output_type": "execute_result"
    }
   ],
   "source": [
    "jitter, latency = extract_ping(_dict)\n",
    "jitter, latency"
   ]
  },
  {
   "cell_type": "code",
   "execution_count": 4,
   "metadata": {},
   "outputs": [],
   "source": [
    "def collect_info():\n",
    "    \"\"\"Perform 10 speed tests with up to 5 mins of wait time \n",
    "    between them and collect results.\n",
    "    \"\"\"\n",
    "    \n",
    "    # instantiate lists\n",
    "    time_list = []\n",
    "    jitter_list = []\n",
    "    latency_list = []\n",
    "    upload_list = []\n",
    "    download_list = []\n",
    "    \n",
    "    for i in range(10):\n",
    "        \n",
    "        # wait random num secs for up to 5 mins\n",
    "        secs = random.randint(10, 300)\n",
    "        print('Loop ' + str(i+1) + ': waiting for ' \\\n",
    "              + str(secs) + ' secs...')\n",
    "        time.sleep(secs)\n",
    "        \n",
    "        print('Performing speed test no.' + str(i+1))\n",
    "        _dict = get_speedtest_json()\n",
    "        \n",
    "        # collect data\n",
    "        download, upload = extract_speeds(_dict)\n",
    "        jitter, latency = extract_ping(_dict)\n",
    "        \n",
    "        # add to lists\n",
    "        print('Adding to lists.')\n",
    "        jitter_list.append(jitter)\n",
    "        latency_list.append(latency)\n",
    "        download_list.append(download)\n",
    "        upload_list.append(upload)\n",
    "    \n",
    "        # get dates and times\n",
    "        now = time.time()\n",
    "        dt_obj = datetime.fromtimestamp(now)\n",
    "        \n",
    "        # transform into readable format\n",
    "        _day, _time = str(dt_obj).split(' ')\n",
    "        _time = _time.split('.')[0]  \n",
    "\n",
    "        # add to lists\n",
    "        print('Adding to time list.')\n",
    "        time_list.append(_time)\n",
    "        \n",
    "    # gather up lists into a dict\n",
    "    _dict = {\n",
    "             'day':_day,\n",
    "             'data':{\n",
    "                     'time':time_list,\n",
    "                     'jitter':jitter_list,\n",
    "                     'latency':latency_list,\n",
    "                     'download':download_list,\n",
    "                     'upload':upload_list\n",
    "                    }\n",
    "            }       \n",
    "    \n",
    "    return(_dict)"
   ]
  },
  {
   "cell_type": "code",
   "execution_count": 5,
   "metadata": {},
   "outputs": [],
   "source": [
    "#if __name__=='__main__':\n",
    "#    \n",
    "#    # get user input \n",
    "#    # [TODO: sanitize, error check]\n",
    "#    location = input(\"Enter room name: \") \n",
    "#    filename = input(\"Enter file name: \")\n",
    "#    iters = int(input(\"Enter number of speed tests: \"))\n",
    "#    mins = int(input(\"Enter max waittime (mins) between tests: \"))"
   ]
  },
  {
   "cell_type": "code",
   "execution_count": 6,
   "metadata": {},
   "outputs": [],
   "source": [
    "def extract_filename():\n",
    "    \"\"\"Creates a filename by extracting the next name from\n",
    "    filenames in data/.\n",
    "    \"\"\"\n",
    "    \n",
    "    # gets list of files and revers it using a natural key\n",
    "    # this sorts correctly when going from 1 to 2+ digits\n",
    "    filelist = os.listdir('data/')\n",
    "    filelist.sort(key=lambda x: int(re.sub('\\D', '', x))\n",
    "                  , reverse=True)\n",
    "    \n",
    "    # get last digit and add one, create filename\n",
    "    lastdigit = int(filelist[0].split('.')[0][4:6])+1\n",
    "    filename = ''.join(['test', str(lastdigit), '.json'])\n",
    "    \n",
    "    return(filename)"
   ]
  },
  {
   "cell_type": "code",
   "execution_count": 7,
   "metadata": {},
   "outputs": [
    {
     "data": {
      "text/plain": [
       "'test8.json'"
      ]
     },
     "execution_count": 7,
     "metadata": {},
     "output_type": "execute_result"
    }
   ],
   "source": [
    "filename = extract_filename()\n",
    "filename"
   ]
  },
  {
   "cell_type": "code",
   "execution_count": 11,
   "metadata": {},
   "outputs": [],
   "source": [
    "def extract_machineinfo():\n",
    "    \"\"\"Use subprocess to pass a wmic command to extract \n",
    "    the machine name and info.\n",
    "    \"\"\"\n",
    "    \n",
    "    try:\n",
    "        out = subprocess.Popen(['wmic', 'csproduct', 'get', 'name'],\n",
    "                                stdout=subprocess.PIPE,\n",
    "                                stderr=subprocess.STDOUT)\n",
    "        stdout, stderr = out.communicate()\n",
    "        \n",
    "        # cleanup name\n",
    "        names = stdout.decode('utf-8').split('\\n')[1].split(' ')\n",
    "        remove = ['', '\\r\\r', '\\r', '\\n']\n",
    "        clean_names = [x for x in names if x not in remove]\n",
    "        name = ' '.join([str(x) for x in clean_names]) \n",
    "    \n",
    "        return(name)\n",
    "    \n",
    "    except (JSONDecodeError, UnboundLocalError, ValueError):\n",
    "        name = 'No Name'\n",
    "        \n",
    "        return(name)"
   ]
  },
  {
   "cell_type": "code",
   "execution_count": 18,
   "metadata": {},
   "outputs": [
    {
     "data": {
      "text/plain": [
       "'HP ProBook 450 G5'"
      ]
     },
     "execution_count": 18,
     "metadata": {},
     "output_type": "execute_result"
    }
   ],
   "source": [
    "computer = extract_machineinfo()\n",
    "computer = ' ' + computer + '  '\n",
    "computer.strip()"
   ]
  },
  {
   "cell_type": "code",
   "execution_count": 16,
   "metadata": {},
   "outputs": [],
   "source": [
    "_dir = 'data/'\n",
    "if not os.path.exists(_dir):\n",
    "    os.makedirs(_dir)"
   ]
  },
  {
   "cell_type": "code",
   "execution_count": 4,
   "metadata": {},
   "outputs": [],
   "source": [
    "location = 'living room'\n",
    "filename = 'debug01'\n",
    "iters = 2\n",
    "mins = 1"
   ]
  },
  {
   "cell_type": "code",
   "execution_count": 8,
   "metadata": {},
   "outputs": [],
   "source": [
    "data = {'day': '2020-06-07',\n",
    " 'data': {'time': ['11:40:50', '11:41:17'],\n",
    "  'download': [42.576642, 93.752335],\n",
    "  'upload': [4.205152, 3.093153]},\n",
    " 'location': 'living room'}"
   ]
  },
  {
   "cell_type": "code",
   "execution_count": 4,
   "metadata": {},
   "outputs": [
    {
     "name": "stdout",
     "output_type": "stream",
     "text": [
      "Loop 1: waiting for 20 secs...\n",
      "Performing speed test no.1\n",
      "Adding to speed lists.\n",
      "Adding to time list.\n",
      "Loop 2: waiting for 8 secs...\n",
      "Performing speed test no.2\n",
      "Adding to speed lists.\n",
      "Adding to time list.\n"
     ]
    }
   ],
   "source": [
    "# collect data, add location\n",
    "data = collect_speeds(iters, mins)\n",
    "data['location'] = location"
   ]
  },
  {
   "cell_type": "code",
   "execution_count": 7,
   "metadata": {},
   "outputs": [
    {
     "data": {
      "text/plain": [
       "{'day': '2020-06-07',\n",
       " 'data': {'time': ['11:40:50', '11:41:17'],\n",
       "  'download': [42.576642, 93.752335],\n",
       "  'upload': [4.205152, 3.093153]},\n",
       " 'location': 'living room'}"
      ]
     },
     "execution_count": 7,
     "metadata": {},
     "output_type": "execute_result"
    }
   ],
   "source": [
    "data"
   ]
  },
  {
   "cell_type": "code",
   "execution_count": 19,
   "metadata": {},
   "outputs": [
    {
     "name": "stdout",
     "output_type": "stream",
     "text": [
      "Writing out json.\n",
      "Json file saved. Exiting now..\n"
     ]
    }
   ],
   "source": [
    "print('Writing out json.')\n",
    "filepath = ''.join([_dir, str(filename), '.json'])\n",
    "with open(filepath, 'w') as f:\n",
    "    json.dump(data, f, indent=4)\n",
    "           \n",
    "print('Json file saved. Exiting now..')"
   ]
  },
  {
   "cell_type": "code",
   "execution_count": null,
   "metadata": {},
   "outputs": [],
   "source": []
  }
 ],
 "metadata": {
  "kernelspec": {
   "display_name": "Python 3",
   "language": "python",
   "name": "python3"
  },
  "language_info": {
   "codemirror_mode": {
    "name": "ipython",
    "version": 3
   },
   "file_extension": ".py",
   "mimetype": "text/x-python",
   "name": "python",
   "nbconvert_exporter": "python",
   "pygments_lexer": "ipython3",
   "version": "3.7.3"
  }
 },
 "nbformat": 4,
 "nbformat_minor": 4
}
